{
  "cells": [
    {
      "cell_type": "code",
      "execution_count": 2,
      "metadata": {
        "id": "HD4xN9tlC2BR"
      },
      "outputs": [],
      "source": [
        "import pandas as pd\n",
        "import numpy as np"
      ]
    },
    {
      "cell_type": "code",
      "execution_count": 8,
      "metadata": {
        "id": "YOv1NAM4jqYa"
      },
      "outputs": [],
      "source": [
        "data = pd.read_csv('D:\\Git projects\\Books_recsys\\dataset\\merged_data_books.csv')"
      ]
    },
    {
      "cell_type": "code",
      "execution_count": 9,
      "metadata": {
        "colab": {
          "base_uri": "https://localhost:8080/",
          "height": 304
        },
        "id": "0gjqSVe7P9Re",
        "outputId": "23ee28c0-331e-4650-bd5c-21ebf1962e19"
      },
      "outputs": [
        {
          "data": {
            "text/html": [
              "<div>\n",
              "<style scoped>\n",
              "    .dataframe tbody tr th:only-of-type {\n",
              "        vertical-align: middle;\n",
              "    }\n",
              "\n",
              "    .dataframe tbody tr th {\n",
              "        vertical-align: top;\n",
              "    }\n",
              "\n",
              "    .dataframe thead th {\n",
              "        text-align: right;\n",
              "    }\n",
              "</style>\n",
              "<table border=\"1\" class=\"dataframe\">\n",
              "  <thead>\n",
              "    <tr style=\"text-align: right;\">\n",
              "      <th></th>\n",
              "      <th>Title</th>\n",
              "      <th>Author</th>\n",
              "      <th>Annotation</th>\n",
              "      <th>num of pages</th>\n",
              "      <th>genre</th>\n",
              "      <th>series</th>\n",
              "      <th>book cover</th>\n",
              "    </tr>\n",
              "  </thead>\n",
              "  <tbody>\n",
              "    <tr>\n",
              "      <th>0</th>\n",
              "      <td>Славянские мифы и предания</td>\n",
              "      <td>NaN</td>\n",
              "      <td>В книге \"Славянские мифы и предания\" исследует...</td>\n",
              "      <td>208</td>\n",
              "      <td>Мифы. Фольклор</td>\n",
              "      <td>Эхо древних миров</td>\n",
              "      <td>https://cdn.ast.ru/v2/ASE000000000884911/COVER...</td>\n",
              "    </tr>\n",
              "    <tr>\n",
              "      <th>1</th>\n",
              "      <td>Увидимся в августе</td>\n",
              "      <td>Гарсиа Маркес Габриэль</td>\n",
              "      <td>Стройная красивая брюнетка снимает номер в зах...</td>\n",
              "      <td>160</td>\n",
              "      <td>Современная проза</td>\n",
              "      <td>Neoclassic проза</td>\n",
              "      <td>https://cdn.ast.ru/v2/ASE000000000878536/COVER...</td>\n",
              "    </tr>\n",
              "    <tr>\n",
              "      <th>2</th>\n",
              "      <td>Один из нас вернулся</td>\n",
              "      <td>Макманус Карен М.</td>\n",
              "      <td>Два года назад Саймон — школьный изгой, жесток...</td>\n",
              "      <td>352</td>\n",
              "      <td>Детективы</td>\n",
              "      <td>Neoclassic: Расследование</td>\n",
              "      <td>https://cdn.ast.ru/v2/ASE000000000864344/COVER...</td>\n",
              "    </tr>\n",
              "    <tr>\n",
              "      <th>3</th>\n",
              "      <td>Снежная королева</td>\n",
              "      <td>Шварц Евгений Львович</td>\n",
              "      <td>Ни одна из сказок Шварца не заканчивается беза...</td>\n",
              "      <td>176</td>\n",
              "      <td>Классическая литература для детей и подростков</td>\n",
              "      <td>NaN</td>\n",
              "      <td>https://cdn.ast.ru/v2/ASE000000000886060/COVER...</td>\n",
              "    </tr>\n",
              "    <tr>\n",
              "      <th>4</th>\n",
              "      <td>Обыкновенное чудо</td>\n",
              "      <td>Шварц Евгений Львович</td>\n",
              "      <td>Ни одна из сказок Шварца не заканчивается беза...</td>\n",
              "      <td>176</td>\n",
              "      <td>Классическая литература для детей и подростков</td>\n",
              "      <td>NaN</td>\n",
              "      <td>https://cdn.ast.ru/v2/ASE000000000883923/COVER...</td>\n",
              "    </tr>\n",
              "  </tbody>\n",
              "</table>\n",
              "</div>"
            ],
            "text/plain": [
              "                        Title                  Author  \\\n",
              "0  Славянские мифы и предания                     NaN   \n",
              "1          Увидимся в августе  Гарсиа Маркес Габриэль   \n",
              "2        Один из нас вернулся       Макманус Карен М.   \n",
              "3            Снежная королева   Шварц Евгений Львович   \n",
              "4           Обыкновенное чудо   Шварц Евгений Львович   \n",
              "\n",
              "                                          Annotation num of pages  \\\n",
              "0  В книге \"Славянские мифы и предания\" исследует...          208   \n",
              "1  Стройная красивая брюнетка снимает номер в зах...          160   \n",
              "2  Два года назад Саймон — школьный изгой, жесток...          352   \n",
              "3  Ни одна из сказок Шварца не заканчивается беза...          176   \n",
              "4  Ни одна из сказок Шварца не заканчивается беза...          176   \n",
              "\n",
              "                                            genre                     series  \\\n",
              "0                                  Мифы. Фольклор          Эхо древних миров   \n",
              "1                               Современная проза           Neoclassic проза   \n",
              "2                                       Детективы  Neoclassic: Расследование   \n",
              "3  Классическая литература для детей и подростков                        NaN   \n",
              "4  Классическая литература для детей и подростков                        NaN   \n",
              "\n",
              "                                          book cover  \n",
              "0  https://cdn.ast.ru/v2/ASE000000000884911/COVER...  \n",
              "1  https://cdn.ast.ru/v2/ASE000000000878536/COVER...  \n",
              "2  https://cdn.ast.ru/v2/ASE000000000864344/COVER...  \n",
              "3  https://cdn.ast.ru/v2/ASE000000000886060/COVER...  \n",
              "4  https://cdn.ast.ru/v2/ASE000000000883923/COVER...  "
            ]
          },
          "execution_count": 9,
          "metadata": {},
          "output_type": "execute_result"
        }
      ],
      "source": [
        "data.drop('Unnamed: 0', axis=1, inplace=True)\n",
        "data.head()"
      ]
    },
    {
      "cell_type": "markdown",
      "metadata": {
        "id": "pgLTfxQXRnPF"
      },
      "source": [
        "Смотрим пропуски"
      ]
    },
    {
      "cell_type": "code",
      "execution_count": 10,
      "metadata": {
        "colab": {
          "base_uri": "https://localhost:8080/",
          "height": 303
        },
        "id": "JX5MHtb-P924",
        "outputId": "c07f2238-a422-4225-e180-b2b6c9a691ca"
      },
      "outputs": [
        {
          "data": {
            "text/plain": [
              "Title              0\n",
              "Author          3940\n",
              "Annotation       577\n",
              "num of pages       0\n",
              "genre              0\n",
              "series           606\n",
              "book cover         0\n",
              "dtype: int64"
            ]
          },
          "execution_count": 10,
          "metadata": {},
          "output_type": "execute_result"
        }
      ],
      "source": [
        "data.isna().sum()"
      ]
    },
    {
      "cell_type": "markdown",
      "metadata": {
        "id": "NMnRfTl3RzEm"
      },
      "source": [
        "У некоторых книг нет автора, такое бывает, думаю заменть Nan, на Без автора\n",
        "Так же считаю нормальным, что нет указана серия, и аннотация не у всех книг они бывают"
      ]
    },
    {
      "cell_type": "code",
      "execution_count": 11,
      "metadata": {
        "id": "aLFK48K-Qh53"
      },
      "outputs": [],
      "source": [
        "data['Author'] = data['Author'].fillna('Без автора')\n",
        "data['Annotation'] = data['Annotation'].fillna('Без аннотации')\n",
        "data['series'] = data['series'].fillna('Без серии')"
      ]
    },
    {
      "cell_type": "code",
      "execution_count": 12,
      "metadata": {
        "colab": {
          "base_uri": "https://localhost:8080/"
        },
        "id": "gtC5BA-ESqOB",
        "outputId": "2991eabe-f9df-4f13-9606-e25d7db34efc"
      },
      "outputs": [
        {
          "name": "stdout",
          "output_type": "stream",
          "text": [
            "Title           0\n",
            "Author          0\n",
            "Annotation      0\n",
            "num of pages    0\n",
            "genre           0\n",
            "series          0\n",
            "book cover      0\n",
            "dtype: int64\n",
            "\n",
            "Title           object\n",
            "Author          object\n",
            "Annotation      object\n",
            "num of pages    object\n",
            "genre           object\n",
            "series          object\n",
            "book cover      object\n",
            "dtype: object\n"
          ]
        }
      ],
      "source": [
        "print(data.isna().sum())\n",
        "print()\n",
        "print(data.dtypes)"
      ]
    },
    {
      "cell_type": "markdown",
      "metadata": {
        "id": "0k3fkR4IUOul"
      },
      "source": [
        "У некоторых страничек, в месте где обычно указан количество страниц, был указан вес, без указания страниц"
      ]
    },
    {
      "cell_type": "code",
      "execution_count": 13,
      "metadata": {
        "colab": {
          "base_uri": "https://localhost:8080/",
          "height": 458
        },
        "id": "fa_QlJxMT5GE",
        "outputId": "759a9710-024b-4bca-ebfa-145e4f3c7cda"
      },
      "outputs": [
        {
          "data": {
            "text/plain": [
              "1437     1.085 кг.\n",
              "3453      1.31 кг.\n",
              "3853     1.107 кг.\n",
              "4077     1.144 кг.\n",
              "5115     0.021 кг.\n",
              "           ...    \n",
              "17705    0.457 кг.\n",
              "17935      0.1 кг.\n",
              "18002    0.457 кг.\n",
              "18715    0.295 кг.\n",
              "27103    0.161 кг.\n",
              "Name: num of pages, Length: 61, dtype: object"
            ]
          },
          "execution_count": 13,
          "metadata": {},
          "output_type": "execute_result"
        }
      ],
      "source": [
        "mask = data['num of pages'].str.contains('кг', case=False)\n",
        "data['num of pages'][mask]"
      ]
    },
    {
      "cell_type": "code",
      "execution_count": 14,
      "metadata": {
        "colab": {
          "base_uri": "https://localhost:8080/"
        },
        "id": "GEbf-qBGUZNh",
        "outputId": "dbeafa03-058d-4503-9439-18875da36cc4"
      },
      "outputs": [
        {
          "data": {
            "text/plain": [
              "np.int64(27)"
            ]
          },
          "execution_count": 14,
          "metadata": {},
          "output_type": "execute_result"
        }
      ],
      "source": [
        "(data['Author'][mask] == 'Без автора').sum()"
      ]
    },
    {
      "cell_type": "markdown",
      "metadata": {
        "id": "sDCIRka2VGmt"
      },
      "source": [
        "То есть половина книг где не было автора, не имеет и данных о кол-ве страниц"
      ]
    },
    {
      "cell_type": "code",
      "execution_count": 15,
      "metadata": {
        "colab": {
          "base_uri": "https://localhost:8080/",
          "height": 680
        },
        "id": "kZ1gmxtyXC1P",
        "outputId": "dab33be7-c865-404d-f611-4ddf53bc0764"
      },
      "outputs": [
        {
          "data": {
            "text/plain": [
              "13678                         Аудиокн. Водолазкин. Авиатор\n",
              "14129      Аудиокн. Цыпкин. Женщины непреклонного возраста\n",
              "14553    Аудиокн. Устинова. Шекспир мне друг, но истина...\n",
              "14554        Аудиокн. Пелевин. Смотритель. Железная бездна\n",
              "14572    Аудиокн. Пелевин. Смотритель. Орден жёлтого флага\n",
              "14707                 Аудиокн. Васильев. Пограничье.Рекрут\n",
              "14746             Аудиокн. Ремарк. Возлюби ближнего своего\n",
              "14840            Аудиокн. Маринина. Оборванные нити. Том 3\n",
              "14841                              Аудиокн. Кинг. 11/22/63\n",
              "14906                       Аудиокн. Кинг. Мистер Мерседес\n",
              "14979                Аудиокн. Бель де Жур. Гид по мужчинам\n",
              "14987                            Аудиокн. Волков. Ренегаты\n",
              "14991           Аудиокн. Литвиновы. Ныряльщица за жемчугом\n",
              "15162                         Аудиокн. Рой. Повторный брак\n",
              "15263     Аудиокн. Андерсон. Пятьдесят оттенков подчинения\n",
              "29205           Аудиокн. Пелевин. Священная книга оборотня\n",
              "29206              Аудиокн. Брусникин. Герой иного времени\n",
              "29208    Аудиокн. Сэ. Сантехник, его кот, жена и другие...\n",
              "29209               Аудиокн. Акунин. Мука разбитого сердца\n",
              "Name: Title, dtype: object"
            ]
          },
          "execution_count": 15,
          "metadata": {},
          "output_type": "execute_result"
        }
      ],
      "source": [
        "mask_audio = data['Title'].str.contains('Аудиокн.', case=False)\n",
        "data['Title'][mask_audio]"
      ]
    },
    {
      "cell_type": "markdown",
      "metadata": {
        "id": "1t4ySIYTW9Nb"
      },
      "source": [
        "Удалим строки где нет страниц, и аудиокниги"
      ]
    },
    {
      "cell_type": "code",
      "execution_count": 16,
      "metadata": {
        "colab": {
          "base_uri": "https://localhost:8080/"
        },
        "id": "vUoCQKoSS59i",
        "outputId": "a2d4929f-2976-4846-9435-1321478f4459"
      },
      "outputs": [
        {
          "name": "stderr",
          "output_type": "stream",
          "text": [
            "C:\\Users\\Suzuki_Miyaura\\AppData\\Local\\Temp\\ipykernel_11228\\1036395905.py:2: UserWarning: Boolean Series key will be reindexed to match DataFrame index.\n",
            "  data.drop(data[mask_audio].index, inplace=True)\n"
          ]
        }
      ],
      "source": [
        "data.drop(data[mask].index, inplace=True)\n",
        "data.drop(data[mask_audio].index, inplace=True)"
      ]
    },
    {
      "cell_type": "code",
      "execution_count": 17,
      "metadata": {
        "id": "72-uCtFjWqPP"
      },
      "outputs": [],
      "source": [
        "data.reset_index(inplace=True, drop=True)"
      ]
    },
    {
      "cell_type": "markdown",
      "metadata": {
        "id": "7dGhh8-lXex0"
      },
      "source": [
        "В итоге, мы заполнили и убрали пропуски, убрали нерелевантные данные, можно теперь думать как использовать аннотации для рекомендательной системы, по описанию книги"
      ]
    },
    {
      "cell_type": "code",
      "execution_count": 18,
      "metadata": {
        "colab": {
          "base_uri": "https://localhost:8080/",
          "height": 615
        },
        "id": "sRk_dICqIAXG",
        "outputId": "530aa4e7-9a93-400f-e88b-de9e69d8bf0b"
      },
      "outputs": [
        {
          "data": {
            "text/html": [
              "<div>\n",
              "<style scoped>\n",
              "    .dataframe tbody tr th:only-of-type {\n",
              "        vertical-align: middle;\n",
              "    }\n",
              "\n",
              "    .dataframe tbody tr th {\n",
              "        vertical-align: top;\n",
              "    }\n",
              "\n",
              "    .dataframe thead th {\n",
              "        text-align: right;\n",
              "    }\n",
              "</style>\n",
              "<table border=\"1\" class=\"dataframe\">\n",
              "  <thead>\n",
              "    <tr style=\"text-align: right;\">\n",
              "      <th></th>\n",
              "      <th>Title</th>\n",
              "      <th>Author</th>\n",
              "      <th>Annotation</th>\n",
              "      <th>num of pages</th>\n",
              "      <th>genre</th>\n",
              "      <th>series</th>\n",
              "      <th>book cover</th>\n",
              "    </tr>\n",
              "  </thead>\n",
              "  <tbody>\n",
              "    <tr>\n",
              "      <th>0</th>\n",
              "      <td>Славянские мифы и предания</td>\n",
              "      <td>Без автора</td>\n",
              "      <td>В книге \"Славянские мифы и предания\" исследует...</td>\n",
              "      <td>208</td>\n",
              "      <td>Мифы. Фольклор</td>\n",
              "      <td>Эхо древних миров</td>\n",
              "      <td>https://cdn.ast.ru/v2/ASE000000000884911/COVER...</td>\n",
              "    </tr>\n",
              "    <tr>\n",
              "      <th>1</th>\n",
              "      <td>Увидимся в августе</td>\n",
              "      <td>Гарсиа Маркес Габриэль</td>\n",
              "      <td>Стройная красивая брюнетка снимает номер в зах...</td>\n",
              "      <td>160</td>\n",
              "      <td>Современная проза</td>\n",
              "      <td>Neoclassic проза</td>\n",
              "      <td>https://cdn.ast.ru/v2/ASE000000000878536/COVER...</td>\n",
              "    </tr>\n",
              "    <tr>\n",
              "      <th>2</th>\n",
              "      <td>Один из нас вернулся</td>\n",
              "      <td>Макманус Карен М.</td>\n",
              "      <td>Два года назад Саймон — школьный изгой, жесток...</td>\n",
              "      <td>352</td>\n",
              "      <td>Детективы</td>\n",
              "      <td>Neoclassic: Расследование</td>\n",
              "      <td>https://cdn.ast.ru/v2/ASE000000000864344/COVER...</td>\n",
              "    </tr>\n",
              "    <tr>\n",
              "      <th>3</th>\n",
              "      <td>Снежная королева</td>\n",
              "      <td>Шварц Евгений Львович</td>\n",
              "      <td>Ни одна из сказок Шварца не заканчивается беза...</td>\n",
              "      <td>176</td>\n",
              "      <td>Классическая литература для детей и подростков</td>\n",
              "      <td>Без серии</td>\n",
              "      <td>https://cdn.ast.ru/v2/ASE000000000886060/COVER...</td>\n",
              "    </tr>\n",
              "    <tr>\n",
              "      <th>4</th>\n",
              "      <td>Обыкновенное чудо</td>\n",
              "      <td>Шварц Евгений Львович</td>\n",
              "      <td>Ни одна из сказок Шварца не заканчивается беза...</td>\n",
              "      <td>176</td>\n",
              "      <td>Классическая литература для детей и подростков</td>\n",
              "      <td>Без серии</td>\n",
              "      <td>https://cdn.ast.ru/v2/ASE000000000883923/COVER...</td>\n",
              "    </tr>\n",
              "    <tr>\n",
              "      <th>...</th>\n",
              "      <td>...</td>\n",
              "      <td>...</td>\n",
              "      <td>...</td>\n",
              "      <td>...</td>\n",
              "      <td>...</td>\n",
              "      <td>...</td>\n",
              "      <td>...</td>\n",
              "    </tr>\n",
              "    <tr>\n",
              "      <th>29136</th>\n",
              "      <td>Двойное экспресо (книга с закладкой)</td>\n",
              "      <td>Аккерман Василий</td>\n",
              "      <td>Василий Аккерман— свременный российский публиц...</td>\n",
              "      <td>224</td>\n",
              "      <td>Художественно-документальная проза</td>\n",
              "      <td>Тренды Рунета</td>\n",
              "      <td>https://cdn.ast.ru/v2/ASE000000000863094/COVER...</td>\n",
              "    </tr>\n",
              "    <tr>\n",
              "      <th>29137</th>\n",
              "      <td>ЭКС!Джеймс На 50 оттенков темнее</td>\n",
              "      <td>Без автора</td>\n",
              "      <td>Без аннотации</td>\n",
              "      <td>608</td>\n",
              "      <td>Сентиментальная проза</td>\n",
              "      <td>Без серии</td>\n",
              "      <td>https://cdn.ast.ru/v2/AST000000000052154/COVER...</td>\n",
              "    </tr>\n",
              "    <tr>\n",
              "      <th>29138</th>\n",
              "      <td>Добрые истории о котятах и волшебстве</td>\n",
              "      <td>Без автора</td>\n",
              "      <td>Без аннотации</td>\n",
              "      <td>656</td>\n",
              "      <td>Детская и подростковая литература</td>\n",
              "      <td>.</td>\n",
              "      <td>https://cdn.ast.ru/v2/ASE000000000840306/COVER...</td>\n",
              "    </tr>\n",
              "    <tr>\n",
              "      <th>29139</th>\n",
              "      <td>Хроники зоны</td>\n",
              "      <td>Без автора</td>\n",
              "      <td>Без аннотации</td>\n",
              "      <td>1440</td>\n",
              "      <td>Фантастика</td>\n",
              "      <td>Пикник на обочине</td>\n",
              "      <td>https://cdn.ast.ru/v2/ASE000000000722016/COVER...</td>\n",
              "    </tr>\n",
              "    <tr>\n",
              "      <th>29140</th>\n",
              "      <td>Город стекла</td>\n",
              "      <td>Клэр Кассандра</td>\n",
              "      <td>Кассандра Клэр – популярная американская писат...</td>\n",
              "      <td>576</td>\n",
              "      <td>Фэнтези</td>\n",
              "      <td>Бестселлеры Кассандры Клэр (подарочное)</td>\n",
              "      <td>https://cdn.ast.ru/v2/ASE000000000879590/COVER...</td>\n",
              "    </tr>\n",
              "  </tbody>\n",
              "</table>\n",
              "<p>29141 rows × 7 columns</p>\n",
              "</div>"
            ],
            "text/plain": [
              "                                       Title                  Author  \\\n",
              "0                 Славянские мифы и предания              Без автора   \n",
              "1                         Увидимся в августе  Гарсиа Маркес Габриэль   \n",
              "2                       Один из нас вернулся       Макманус Карен М.   \n",
              "3                           Снежная королева   Шварц Евгений Львович   \n",
              "4                          Обыкновенное чудо   Шварц Евгений Львович   \n",
              "...                                      ...                     ...   \n",
              "29136   Двойное экспресо (книга с закладкой)        Аккерман Василий   \n",
              "29137       ЭКС!Джеймс На 50 оттенков темнее              Без автора   \n",
              "29138  Добрые истории о котятах и волшебстве              Без автора   \n",
              "29139                           Хроники зоны              Без автора   \n",
              "29140                           Город стекла          Клэр Кассандра   \n",
              "\n",
              "                                              Annotation num of pages  \\\n",
              "0      В книге \"Славянские мифы и предания\" исследует...          208   \n",
              "1      Стройная красивая брюнетка снимает номер в зах...          160   \n",
              "2      Два года назад Саймон — школьный изгой, жесток...          352   \n",
              "3      Ни одна из сказок Шварца не заканчивается беза...          176   \n",
              "4      Ни одна из сказок Шварца не заканчивается беза...          176   \n",
              "...                                                  ...          ...   \n",
              "29136  Василий Аккерман— свременный российский публиц...          224   \n",
              "29137                                      Без аннотации          608   \n",
              "29138                                      Без аннотации          656   \n",
              "29139                                      Без аннотации         1440   \n",
              "29140  Кассандра Клэр – популярная американская писат...          576   \n",
              "\n",
              "                                                genre  \\\n",
              "0                                      Мифы. Фольклор   \n",
              "1                                   Современная проза   \n",
              "2                                           Детективы   \n",
              "3      Классическая литература для детей и подростков   \n",
              "4      Классическая литература для детей и подростков   \n",
              "...                                               ...   \n",
              "29136              Художественно-документальная проза   \n",
              "29137                           Сентиментальная проза   \n",
              "29138               Детская и подростковая литература   \n",
              "29139                                      Фантастика   \n",
              "29140                                         Фэнтези   \n",
              "\n",
              "                                        series  \\\n",
              "0                            Эхо древних миров   \n",
              "1                             Neoclassic проза   \n",
              "2                    Neoclassic: Расследование   \n",
              "3                                    Без серии   \n",
              "4                                    Без серии   \n",
              "...                                        ...   \n",
              "29136                            Тренды Рунета   \n",
              "29137                                Без серии   \n",
              "29138                                        .   \n",
              "29139                        Пикник на обочине   \n",
              "29140  Бестселлеры Кассандры Клэр (подарочное)   \n",
              "\n",
              "                                              book cover  \n",
              "0      https://cdn.ast.ru/v2/ASE000000000884911/COVER...  \n",
              "1      https://cdn.ast.ru/v2/ASE000000000878536/COVER...  \n",
              "2      https://cdn.ast.ru/v2/ASE000000000864344/COVER...  \n",
              "3      https://cdn.ast.ru/v2/ASE000000000886060/COVER...  \n",
              "4      https://cdn.ast.ru/v2/ASE000000000883923/COVER...  \n",
              "...                                                  ...  \n",
              "29136  https://cdn.ast.ru/v2/ASE000000000863094/COVER...  \n",
              "29137  https://cdn.ast.ru/v2/AST000000000052154/COVER...  \n",
              "29138  https://cdn.ast.ru/v2/ASE000000000840306/COVER...  \n",
              "29139  https://cdn.ast.ru/v2/ASE000000000722016/COVER...  \n",
              "29140  https://cdn.ast.ru/v2/ASE000000000879590/COVER...  \n",
              "\n",
              "[29141 rows x 7 columns]"
            ]
          },
          "execution_count": 18,
          "metadata": {},
          "output_type": "execute_result"
        }
      ],
      "source": [
        "data"
      ]
    },
    {
      "cell_type": "code",
      "execution_count": 19,
      "metadata": {
        "id": "LJR1j7FXIA0u"
      },
      "outputs": [],
      "source": [
        "data['num of pages'] = data['num of pages'].astype('int')"
      ]
    },
    {
      "cell_type": "code",
      "execution_count": 20,
      "metadata": {
        "colab": {
          "base_uri": "https://localhost:8080/",
          "height": 303
        },
        "id": "dtULTuKKIMB6",
        "outputId": "e466be97-4f98-49c9-af0b-0d195ec1e71b"
      },
      "outputs": [
        {
          "data": {
            "text/plain": [
              "Title           object\n",
              "Author          object\n",
              "Annotation      object\n",
              "num of pages     int64\n",
              "genre           object\n",
              "series          object\n",
              "book cover      object\n",
              "dtype: object"
            ]
          },
          "execution_count": 20,
          "metadata": {},
          "output_type": "execute_result"
        }
      ],
      "source": [
        "data.dtypes"
      ]
    },
    {
      "cell_type": "code",
      "execution_count": 22,
      "metadata": {
        "id": "iZuV8DSgIDkU"
      },
      "outputs": [],
      "source": [
        "data.to_csv('D:\\Git projects\\Books_recsys\\dataset\\cl_data_books.csv')"
      ]
    },
    {
      "cell_type": "code",
      "execution_count": null,
      "metadata": {},
      "outputs": [],
      "source": []
    }
  ],
  "metadata": {
    "colab": {
      "provenance": []
    },
    "kernelspec": {
      "display_name": "Python 3",
      "name": "python3"
    },
    "language_info": {
      "codemirror_mode": {
        "name": "ipython",
        "version": 3
      },
      "file_extension": ".py",
      "mimetype": "text/x-python",
      "name": "python",
      "nbconvert_exporter": "python",
      "pygments_lexer": "ipython3",
      "version": "3.11.9"
    }
  },
  "nbformat": 4,
  "nbformat_minor": 0
}
