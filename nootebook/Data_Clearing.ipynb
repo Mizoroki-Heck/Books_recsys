{
  "nbformat": 4,
  "nbformat_minor": 0,
  "metadata": {
    "colab": {
      "provenance": []
    },
    "kernelspec": {
      "name": "python3",
      "display_name": "Python 3"
    },
    "language_info": {
      "name": "python"
    }
  },
  "cells": [
    {
      "cell_type": "code",
      "execution_count": 76,
      "metadata": {
        "id": "HD4xN9tlC2BR"
      },
      "outputs": [],
      "source": [
        "import pandas as pd\n",
        "import numpy as np"
      ]
    },
    {
      "cell_type": "code",
      "source": [
        "data = pd.read_csv('/content/merged_data_books.csv')"
      ],
      "metadata": {
        "id": "YOv1NAM4jqYa"
      },
      "execution_count": 77,
      "outputs": []
    },
    {
      "cell_type": "code",
      "source": [
        "data.drop('Unnamed: 0', axis=1, inplace=True)\n",
        "data.head()"
      ],
      "metadata": {
        "colab": {
          "base_uri": "https://localhost:8080/",
          "height": 206
        },
        "id": "0gjqSVe7P9Re",
        "outputId": "214a26c9-b907-4ea9-c667-561c4097d953"
      },
      "execution_count": 78,
      "outputs": [
        {
          "output_type": "execute_result",
          "data": {
            "text/plain": [
              "                        Title                  Author  \\\n",
              "0  Славянские мифы и предания                     NaN   \n",
              "1          Увидимся в августе  Гарсиа Маркес Габриэль   \n",
              "2        Один из нас вернулся       Макманус Карен М.   \n",
              "3            Снежная королева   Шварц Евгений Львович   \n",
              "4           Обыкновенное чудо   Шварц Евгений Львович   \n",
              "\n",
              "                                          Annotation num of pages  \\\n",
              "0  В книге \"Славянские мифы и предания\" исследует...          208   \n",
              "1  Стройная красивая брюнетка снимает номер в зах...          160   \n",
              "2  Два года назад Саймон — школьный изгой, жесток...          352   \n",
              "3  Ни одна из сказок Шварца не заканчивается беза...          176   \n",
              "4  Ни одна из сказок Шварца не заканчивается беза...          176   \n",
              "\n",
              "                                            genre                     series  \\\n",
              "0                                  Мифы. Фольклор          Эхо древних миров   \n",
              "1                               Современная проза           Neoclassic проза   \n",
              "2                                       Детективы  Neoclassic: Расследование   \n",
              "3  Классическая литература для детей и подростков                        NaN   \n",
              "4  Классическая литература для детей и подростков                        NaN   \n",
              "\n",
              "                                          book cover  \n",
              "0  https://cdn.ast.ru/v2/ASE000000000884911/COVER...  \n",
              "1  https://cdn.ast.ru/v2/ASE000000000878536/COVER...  \n",
              "2  https://cdn.ast.ru/v2/ASE000000000864344/COVER...  \n",
              "3  https://cdn.ast.ru/v2/ASE000000000886060/COVER...  \n",
              "4  https://cdn.ast.ru/v2/ASE000000000883923/COVER...  "
            ],
            "text/html": [
              "\n",
              "  <div id=\"df-a3f0fea2-acd2-4b91-86d2-516a323b0b43\" class=\"colab-df-container\">\n",
              "    <div>\n",
              "<style scoped>\n",
              "    .dataframe tbody tr th:only-of-type {\n",
              "        vertical-align: middle;\n",
              "    }\n",
              "\n",
              "    .dataframe tbody tr th {\n",
              "        vertical-align: top;\n",
              "    }\n",
              "\n",
              "    .dataframe thead th {\n",
              "        text-align: right;\n",
              "    }\n",
              "</style>\n",
              "<table border=\"1\" class=\"dataframe\">\n",
              "  <thead>\n",
              "    <tr style=\"text-align: right;\">\n",
              "      <th></th>\n",
              "      <th>Title</th>\n",
              "      <th>Author</th>\n",
              "      <th>Annotation</th>\n",
              "      <th>num of pages</th>\n",
              "      <th>genre</th>\n",
              "      <th>series</th>\n",
              "      <th>book cover</th>\n",
              "    </tr>\n",
              "  </thead>\n",
              "  <tbody>\n",
              "    <tr>\n",
              "      <th>0</th>\n",
              "      <td>Славянские мифы и предания</td>\n",
              "      <td>NaN</td>\n",
              "      <td>В книге \"Славянские мифы и предания\" исследует...</td>\n",
              "      <td>208</td>\n",
              "      <td>Мифы. Фольклор</td>\n",
              "      <td>Эхо древних миров</td>\n",
              "      <td>https://cdn.ast.ru/v2/ASE000000000884911/COVER...</td>\n",
              "    </tr>\n",
              "    <tr>\n",
              "      <th>1</th>\n",
              "      <td>Увидимся в августе</td>\n",
              "      <td>Гарсиа Маркес Габриэль</td>\n",
              "      <td>Стройная красивая брюнетка снимает номер в зах...</td>\n",
              "      <td>160</td>\n",
              "      <td>Современная проза</td>\n",
              "      <td>Neoclassic проза</td>\n",
              "      <td>https://cdn.ast.ru/v2/ASE000000000878536/COVER...</td>\n",
              "    </tr>\n",
              "    <tr>\n",
              "      <th>2</th>\n",
              "      <td>Один из нас вернулся</td>\n",
              "      <td>Макманус Карен М.</td>\n",
              "      <td>Два года назад Саймон — школьный изгой, жесток...</td>\n",
              "      <td>352</td>\n",
              "      <td>Детективы</td>\n",
              "      <td>Neoclassic: Расследование</td>\n",
              "      <td>https://cdn.ast.ru/v2/ASE000000000864344/COVER...</td>\n",
              "    </tr>\n",
              "    <tr>\n",
              "      <th>3</th>\n",
              "      <td>Снежная королева</td>\n",
              "      <td>Шварц Евгений Львович</td>\n",
              "      <td>Ни одна из сказок Шварца не заканчивается беза...</td>\n",
              "      <td>176</td>\n",
              "      <td>Классическая литература для детей и подростков</td>\n",
              "      <td>NaN</td>\n",
              "      <td>https://cdn.ast.ru/v2/ASE000000000886060/COVER...</td>\n",
              "    </tr>\n",
              "    <tr>\n",
              "      <th>4</th>\n",
              "      <td>Обыкновенное чудо</td>\n",
              "      <td>Шварц Евгений Львович</td>\n",
              "      <td>Ни одна из сказок Шварца не заканчивается беза...</td>\n",
              "      <td>176</td>\n",
              "      <td>Классическая литература для детей и подростков</td>\n",
              "      <td>NaN</td>\n",
              "      <td>https://cdn.ast.ru/v2/ASE000000000883923/COVER...</td>\n",
              "    </tr>\n",
              "  </tbody>\n",
              "</table>\n",
              "</div>\n",
              "    <div class=\"colab-df-buttons\">\n",
              "\n",
              "  <div class=\"colab-df-container\">\n",
              "    <button class=\"colab-df-convert\" onclick=\"convertToInteractive('df-a3f0fea2-acd2-4b91-86d2-516a323b0b43')\"\n",
              "            title=\"Convert this dataframe to an interactive table.\"\n",
              "            style=\"display:none;\">\n",
              "\n",
              "  <svg xmlns=\"http://www.w3.org/2000/svg\" height=\"24px\" viewBox=\"0 -960 960 960\">\n",
              "    <path d=\"M120-120v-720h720v720H120Zm60-500h600v-160H180v160Zm220 220h160v-160H400v160Zm0 220h160v-160H400v160ZM180-400h160v-160H180v160Zm440 0h160v-160H620v160ZM180-180h160v-160H180v160Zm440 0h160v-160H620v160Z\"/>\n",
              "  </svg>\n",
              "    </button>\n",
              "\n",
              "  <style>\n",
              "    .colab-df-container {\n",
              "      display:flex;\n",
              "      gap: 12px;\n",
              "    }\n",
              "\n",
              "    .colab-df-convert {\n",
              "      background-color: #E8F0FE;\n",
              "      border: none;\n",
              "      border-radius: 50%;\n",
              "      cursor: pointer;\n",
              "      display: none;\n",
              "      fill: #1967D2;\n",
              "      height: 32px;\n",
              "      padding: 0 0 0 0;\n",
              "      width: 32px;\n",
              "    }\n",
              "\n",
              "    .colab-df-convert:hover {\n",
              "      background-color: #E2EBFA;\n",
              "      box-shadow: 0px 1px 2px rgba(60, 64, 67, 0.3), 0px 1px 3px 1px rgba(60, 64, 67, 0.15);\n",
              "      fill: #174EA6;\n",
              "    }\n",
              "\n",
              "    .colab-df-buttons div {\n",
              "      margin-bottom: 4px;\n",
              "    }\n",
              "\n",
              "    [theme=dark] .colab-df-convert {\n",
              "      background-color: #3B4455;\n",
              "      fill: #D2E3FC;\n",
              "    }\n",
              "\n",
              "    [theme=dark] .colab-df-convert:hover {\n",
              "      background-color: #434B5C;\n",
              "      box-shadow: 0px 1px 3px 1px rgba(0, 0, 0, 0.15);\n",
              "      filter: drop-shadow(0px 1px 2px rgba(0, 0, 0, 0.3));\n",
              "      fill: #FFFFFF;\n",
              "    }\n",
              "  </style>\n",
              "\n",
              "    <script>\n",
              "      const buttonEl =\n",
              "        document.querySelector('#df-a3f0fea2-acd2-4b91-86d2-516a323b0b43 button.colab-df-convert');\n",
              "      buttonEl.style.display =\n",
              "        google.colab.kernel.accessAllowed ? 'block' : 'none';\n",
              "\n",
              "      async function convertToInteractive(key) {\n",
              "        const element = document.querySelector('#df-a3f0fea2-acd2-4b91-86d2-516a323b0b43');\n",
              "        const dataTable =\n",
              "          await google.colab.kernel.invokeFunction('convertToInteractive',\n",
              "                                                    [key], {});\n",
              "        if (!dataTable) return;\n",
              "\n",
              "        const docLinkHtml = 'Like what you see? Visit the ' +\n",
              "          '<a target=\"_blank\" href=https://colab.research.google.com/notebooks/data_table.ipynb>data table notebook</a>'\n",
              "          + ' to learn more about interactive tables.';\n",
              "        element.innerHTML = '';\n",
              "        dataTable['output_type'] = 'display_data';\n",
              "        await google.colab.output.renderOutput(dataTable, element);\n",
              "        const docLink = document.createElement('div');\n",
              "        docLink.innerHTML = docLinkHtml;\n",
              "        element.appendChild(docLink);\n",
              "      }\n",
              "    </script>\n",
              "  </div>\n",
              "\n",
              "\n",
              "<div id=\"df-eb4fa531-0c41-4b22-b723-fc6befe04402\">\n",
              "  <button class=\"colab-df-quickchart\" onclick=\"quickchart('df-eb4fa531-0c41-4b22-b723-fc6befe04402')\"\n",
              "            title=\"Suggest charts\"\n",
              "            style=\"display:none;\">\n",
              "\n",
              "<svg xmlns=\"http://www.w3.org/2000/svg\" height=\"24px\"viewBox=\"0 0 24 24\"\n",
              "     width=\"24px\">\n",
              "    <g>\n",
              "        <path d=\"M19 3H5c-1.1 0-2 .9-2 2v14c0 1.1.9 2 2 2h14c1.1 0 2-.9 2-2V5c0-1.1-.9-2-2-2zM9 17H7v-7h2v7zm4 0h-2V7h2v10zm4 0h-2v-4h2v4z\"/>\n",
              "    </g>\n",
              "</svg>\n",
              "  </button>\n",
              "\n",
              "<style>\n",
              "  .colab-df-quickchart {\n",
              "      --bg-color: #E8F0FE;\n",
              "      --fill-color: #1967D2;\n",
              "      --hover-bg-color: #E2EBFA;\n",
              "      --hover-fill-color: #174EA6;\n",
              "      --disabled-fill-color: #AAA;\n",
              "      --disabled-bg-color: #DDD;\n",
              "  }\n",
              "\n",
              "  [theme=dark] .colab-df-quickchart {\n",
              "      --bg-color: #3B4455;\n",
              "      --fill-color: #D2E3FC;\n",
              "      --hover-bg-color: #434B5C;\n",
              "      --hover-fill-color: #FFFFFF;\n",
              "      --disabled-bg-color: #3B4455;\n",
              "      --disabled-fill-color: #666;\n",
              "  }\n",
              "\n",
              "  .colab-df-quickchart {\n",
              "    background-color: var(--bg-color);\n",
              "    border: none;\n",
              "    border-radius: 50%;\n",
              "    cursor: pointer;\n",
              "    display: none;\n",
              "    fill: var(--fill-color);\n",
              "    height: 32px;\n",
              "    padding: 0;\n",
              "    width: 32px;\n",
              "  }\n",
              "\n",
              "  .colab-df-quickchart:hover {\n",
              "    background-color: var(--hover-bg-color);\n",
              "    box-shadow: 0 1px 2px rgba(60, 64, 67, 0.3), 0 1px 3px 1px rgba(60, 64, 67, 0.15);\n",
              "    fill: var(--button-hover-fill-color);\n",
              "  }\n",
              "\n",
              "  .colab-df-quickchart-complete:disabled,\n",
              "  .colab-df-quickchart-complete:disabled:hover {\n",
              "    background-color: var(--disabled-bg-color);\n",
              "    fill: var(--disabled-fill-color);\n",
              "    box-shadow: none;\n",
              "  }\n",
              "\n",
              "  .colab-df-spinner {\n",
              "    border: 2px solid var(--fill-color);\n",
              "    border-color: transparent;\n",
              "    border-bottom-color: var(--fill-color);\n",
              "    animation:\n",
              "      spin 1s steps(1) infinite;\n",
              "  }\n",
              "\n",
              "  @keyframes spin {\n",
              "    0% {\n",
              "      border-color: transparent;\n",
              "      border-bottom-color: var(--fill-color);\n",
              "      border-left-color: var(--fill-color);\n",
              "    }\n",
              "    20% {\n",
              "      border-color: transparent;\n",
              "      border-left-color: var(--fill-color);\n",
              "      border-top-color: var(--fill-color);\n",
              "    }\n",
              "    30% {\n",
              "      border-color: transparent;\n",
              "      border-left-color: var(--fill-color);\n",
              "      border-top-color: var(--fill-color);\n",
              "      border-right-color: var(--fill-color);\n",
              "    }\n",
              "    40% {\n",
              "      border-color: transparent;\n",
              "      border-right-color: var(--fill-color);\n",
              "      border-top-color: var(--fill-color);\n",
              "    }\n",
              "    60% {\n",
              "      border-color: transparent;\n",
              "      border-right-color: var(--fill-color);\n",
              "    }\n",
              "    80% {\n",
              "      border-color: transparent;\n",
              "      border-right-color: var(--fill-color);\n",
              "      border-bottom-color: var(--fill-color);\n",
              "    }\n",
              "    90% {\n",
              "      border-color: transparent;\n",
              "      border-bottom-color: var(--fill-color);\n",
              "    }\n",
              "  }\n",
              "</style>\n",
              "\n",
              "  <script>\n",
              "    async function quickchart(key) {\n",
              "      const quickchartButtonEl =\n",
              "        document.querySelector('#' + key + ' button');\n",
              "      quickchartButtonEl.disabled = true;  // To prevent multiple clicks.\n",
              "      quickchartButtonEl.classList.add('colab-df-spinner');\n",
              "      try {\n",
              "        const charts = await google.colab.kernel.invokeFunction(\n",
              "            'suggestCharts', [key], {});\n",
              "      } catch (error) {\n",
              "        console.error('Error during call to suggestCharts:', error);\n",
              "      }\n",
              "      quickchartButtonEl.classList.remove('colab-df-spinner');\n",
              "      quickchartButtonEl.classList.add('colab-df-quickchart-complete');\n",
              "    }\n",
              "    (() => {\n",
              "      let quickchartButtonEl =\n",
              "        document.querySelector('#df-eb4fa531-0c41-4b22-b723-fc6befe04402 button');\n",
              "      quickchartButtonEl.style.display =\n",
              "        google.colab.kernel.accessAllowed ? 'block' : 'none';\n",
              "    })();\n",
              "  </script>\n",
              "</div>\n",
              "    </div>\n",
              "  </div>\n"
            ],
            "application/vnd.google.colaboratory.intrinsic+json": {
              "type": "dataframe",
              "variable_name": "data",
              "summary": "{\n  \"name\": \"data\",\n  \"rows\": 29213,\n  \"fields\": [\n    {\n      \"column\": \"Title\",\n      \"properties\": {\n        \"dtype\": \"string\",\n        \"num_unique_values\": 26633,\n        \"samples\": [\n          \"\\u0421\\u0443\\u0434\\u044c\\u0431\\u0430\",\n          \"\\u041d\\u0435\\u0441\\u043a\\u0443\\u0447\\u043d\\u044b\\u0439 \\u043a\\u0438\\u043d\\u043e\\u0441\\u0430\\u0434\",\n          \"\\u0422\\u0430\\u0439\\u043d\\u043e\\u0435 \\u043e\\u0431\\u0435\\u0449\\u0430\\u043d\\u0438\\u0435\"\n        ],\n        \"semantic_type\": \"\",\n        \"description\": \"\"\n      }\n    },\n    {\n      \"column\": \"Author\",\n      \"properties\": {\n        \"dtype\": \"category\",\n        \"num_unique_values\": 7418,\n        \"samples\": [\n          \"\\u0421\\u0432\\u043e\\u0431\\u043e\\u0434\\u0430 \\u0410\\u0440\\u0438\\u043d\\u0430\",\n          \"\\u0420\\u0430\\u043d\\u0441\\u0438 \\u0414\\u0436\\u0435\\u0439\\u043c\\u0441\",\n          \"\\u0421\\u0443\\u0431\\u0431\\u043e\\u0442\\u0438\\u043d \\u041c\\u0430\\u043a\\u0441\\u0438\\u043c \\u0412\\u043b\\u0430\\u0434\\u0438\\u043c\\u0438\\u0440\\u043e\\u0432\\u0438\\u0447\"\n        ],\n        \"semantic_type\": \"\",\n        \"description\": \"\"\n      }\n    },\n    {\n      \"column\": \"Annotation\",\n      \"properties\": {\n        \"dtype\": \"string\",\n        \"num_unique_values\": 23034,\n        \"samples\": [\n          \"\\u0412 \\u043a\\u043d\\u0438\\u0433\\u0435 \\u043f\\u0440\\u0435\\u0434\\u0441\\u0442\\u0430\\u0432\\u043b\\u0435\\u043d\\u044b \\u043d\\u0430\\u0438\\u0431\\u043e\\u043b\\u0435\\u0435 \\u0438\\u0437\\u0432\\u0435\\u0441\\u0442\\u043d\\u044b\\u0435 \\u043f\\u0440\\u043e\\u0438\\u0437\\u0432\\u0435\\u0434\\u0435\\u043d\\u0438\\u044f \\u043a\\u043b\\u0430\\u0441\\u0441\\u0438\\u043a\\u0430 \\u0430\\u043d\\u0433\\u043b\\u0438\\u0439\\u0441\\u043a\\u043e\\u0439 \\u043b\\u0438\\u0442\\u0435\\u0440\\u0430\\u0442\\u0443\\u0440\\u044b \\u0425\\u0425 \\u0432\\u0435\\u043a\\u0430 \\u0418\\u0432\\u043b\\u0438\\u043d\\u0430 \\u0412\\u043e.\",\n          \"\\u0417\\u0435\\u043c\\u043b\\u044f. \\u0415\\u0432\\u0440\\u043e\\u043f\\u0435\\u0439\\u0441\\u043a\\u0430\\u044f \\u0424\\u0435\\u0434\\u0435\\u0440\\u0430\\u0446\\u0438\\u044f, 126 \\u0433\\u043e\\u0434 \\u043a\\u043e\\u0441\\u043c\\u0438\\u0447\\u0435\\u0441\\u043a\\u043e\\u0439 \\u044d\\u0440\\u044b. \\u042e\\u043d\\u0430\\u044f \\u0421\\u043a\\u0430\\u0440\\u043b\\u0435\\u0442 \\u0436\\u0438\\u0432\\u0435\\u0442 \\u0432\\u00a0\\u043c\\u0430\\u043b\\u0435\\u043d\\u044c\\u043a\\u043e\\u043c \\u0444\\u0435\\u0440\\u043c\\u0435\\u0440\\u0441\\u043a\\u043e\\u043c \\u0433\\u043e\\u0440\\u043e\\u0434\\u043a\\u0435 \\u0420\\u044c\\u0451 \\u0441\\u043e\\u00a0\\u0441\\u0432\\u043e\\u0435\\u0439 \\u0431\\u0430\\u0431\\u0443\\u0448\\u043a\\u043e\\u0439. \\u041e\\u043d\\u0438 \\u0432\\u044b\\u0440\\u0430\\u0449\\u0438\\u0432\\u0430\\u044e\\u0442 \\u043e\\u0432\\u043e\\u0449\\u0438 \\u0438\\u00a0\\u0440\\u0430\\u0437\\u0432\\u043e\\u0434\\u044f\\u0442 \\u043d\\u043e\\u0432\\u044b\\u0439 \\u0433\\u0435\\u043d\\u0435\\u0442\\u0438\\u0447\\u0435\\u0441\\u043a\\u0438 \\u043c\\u043e\\u0434\\u0438\\u0444\\u0438\\u0446\\u0438\\u0440\\u043e\\u0432\\u0430\\u043d\\u043d\\u044b\\u0439 \\u0432\\u0438\\u0434 \\u043f\\u0447\\u0435\\u043b. \\u041d\\u043e\\u00a0\\u043e\\u0434\\u043d\\u0430\\u0436\\u0434\\u044b \\u0431\\u0430\\u0431\\u0443\\u0448\\u043a\\u0430 \\u0438\\u0441\\u0447\\u0435\\u0437\\u0430\\u0435\\u0442. \\u0421\\u043a\\u0430\\u0440\\u043b\\u0435\\u0442 \\u0443\\u0432\\u0435\\u0440\\u0435\\u043d\\u0430, \\u0447\\u0442\\u043e \\u0435\\u0435\\u00a0\\u043f\\u043e\\u0445\\u0438\\u0442\\u0438\\u043b\\u0438 \\u0438\\u00a0\\u043e\\u043d\\u0430 \\u0432\\u00a0\\u043e\\u043f\\u0430\\u0441\\u043d\\u043e\\u0441\\u0442\\u0438. \\u041d\\u043e\\u00a0\\u043d\\u0438\\u043a\\u0442\\u043e \\u0435\\u0439\\u00a0\\u043d\\u0435\\u00a0\\u0432\\u0435\\u0440\\u0438\\u0442.\",\n          \"\\u042d\\u0439\\u0432\\u0435\\u0440\\u0438 \\u041c\\u044d\\u0439\\u0441\\u043e\\u043d, \\u043d\\u043e\\u0432\\u043e\\u0438\\u0441\\u043f\\u0435\\u0447\\u0435\\u043d\\u043d\\u0430\\u044f \\u0432\\u0435\\u0434\\u0443\\u0449\\u0430\\u044f \\u043f\\u043e\\u043f\\u0443\\u043b\\u044f\\u0440\\u043d\\u043e\\u0439 \\u0442\\u0435\\u043b\\u0435\\u043f\\u0440\\u043e\\u0433\\u0440\\u0430\\u043c\\u043c\\u044b, \\u0433\\u043e\\u0442\\u043e\\u0432\\u0430 \\u043d\\u0430 \\u043c\\u043d\\u043e\\u0433\\u043e\\u0435, \\u0447\\u0442\\u043e\\u0431\\u044b \\u043f\\u043e\\u0434\\u043d\\u044f\\u0442\\u044c \\u0440\\u0435\\u0439\\u0442\\u0438\\u043d\\u0433\\u0438. \\u041e\\u043f\\u0443\\u0441\\u0442\\u0438\\u0442\\u044c\\u0441\\u044f \\u0432 \\u043c\\u0430\\u0448\\u0438\\u043d\\u0435 \\u043d\\u0430 \\u0434\\u043d\\u043e \\u0431\\u0430\\u0441\\u0441\\u0435\\u0439\\u043d\\u0430, \\u0447\\u0442\\u043e\\u0431\\u044b \\u043f\\u0440\\u043e\\u0432\\u0435\\u0440\\u0438\\u0442\\u044c, \\u043c\\u043e\\u0436\\u0435\\u0442 \\u043b\\u0438 \\u0432\\u044b\\u0431\\u0440\\u0430\\u0442\\u044c\\u0441\\u044f \\u0438\\u0437 \\u043a\\u0430\\u0431\\u0438\\u043d\\u044b \\u0442\\u043e\\u043d\\u0443\\u0449\\u0438\\u0439 \\u0447\\u0435\\u043b\\u043e\\u0432\\u0435\\u043a, \\u2013 \\u043b\\u0435\\u0433\\u043a\\u043e. \\u0420\\u0430\\u0441\\u0441\\u043b\\u0435\\u0434\\u043e\\u0432\\u0430\\u0442\\u044c \\u0434\\u0435\\u043b\\u043e \\u0434\\u0432\\u0430\\u0434\\u0446\\u0430\\u0442\\u0438\\u043b\\u0435\\u0442\\u043d\\u0435\\u0439 \\u0434\\u0430\\u0432\\u043d\\u043e\\u0441\\u0442\\u0438 \\u2013 \\u043f\\u043e\\u0447\\u0435\\u043c\\u0443 \\u0431\\u044b \\u0438 \\u043d\\u0435\\u0442. \\u041d\\u043e\\u0432\\u0430\\u044f \\u0442\\u0435\\u0445\\u043d\\u043e\\u043b\\u043e\\u0433\\u0438\\u044f \\u043f\\u043e\\u0437\\u0432\\u043e\\u043b\\u0438\\u043b\\u0430 \\u0441\\u0443\\u0434\\u043c\\u0435\\u0434\\u044d\\u043a\\u0441\\u043f\\u0435\\u0440\\u0442\\u0438\\u0437\\u0435 \\u041d\\u044c\\u044e-\\u0419\\u043e\\u0440\\u043a\\u0430 \\u0432\\u043f\\u0435\\u0440\\u0432\\u044b\\u0435 \\u0437\\u0430 \\u043c\\u043d\\u043e\\u0433\\u0438\\u0435 \\u0433\\u043e\\u0434\\u044b \\u0443\\u0441\\u043f\\u0435\\u0448\\u043d\\u043e \\u0438\\u0434\\u0435\\u043d\\u0442\\u0438\\u0444\\u0438\\u0446\\u0438\\u0440\\u043e\\u0432\\u0430\\u0442\\u044c \\u0436\\u0435\\u0440\\u0442\\u0432\\u0443 \\u0442\\u0435\\u0440\\u0430\\u043a\\u0442\\u0430 11 \\u0441\\u0435\\u043d\\u0442\\u044f\\u0431\\u0440\\u044f. \\u041d\\u0435\\u043e\\u0436\\u0438\\u0434\\u0430\\u043d\\u043d\\u043e\\u0435 \\u043e\\u0431\\u0441\\u0442\\u043e\\u044f\\u0442\\u0435\\u043b\\u044c\\u0441\\u0442\\u0432\\u043e: \\u0436\\u0435\\u0440\\u0442\\u0432\\u0443, \\u0412\\u0438\\u043a\\u0442\\u043e\\u0440\\u0438\\u044e \\u0424\\u043e\\u0440\\u0434, \\u043e\\u0431\\u0432\\u0438\\u043d\\u0438\\u043b\\u0438 \\u0432 \\u0438\\u0437\\u043e\\u0449\\u0440\\u0435\\u043d\\u043d\\u043e\\u043c \\u0443\\u0431\\u0438\\u0439\\u0441\\u0442\\u0432\\u0435 \\u0435\\u0435 \\u0436\\u0435\\u043d\\u0430\\u0442\\u043e\\u0433\\u043e \\u043b\\u044e\\u0431\\u043e\\u0432\\u043d\\u0438\\u043a\\u0430. \\u0412\\u043e \\u0432\\u0440\\u0435\\u043c\\u044f \\u043b\\u0435\\u0434\\u0435\\u043d\\u044f\\u0449\\u0435\\u0433\\u043e \\u0434\\u0443\\u0448\\u0443 \\u043f\\u043e\\u0441\\u043b\\u0435\\u0434\\u043d\\u0435\\u0433\\u043e \\u0442\\u0435\\u043b\\u0435\\u0444\\u043e\\u043d\\u043d\\u043e\\u0433\\u043e \\u0437\\u0432\\u043e\\u043d\\u043a\\u0430 \\u0438\\u0437 \\u0440\\u0443\\u0448\\u0430\\u0449\\u0435\\u0439\\u0441\\u044f \\u0431\\u0430\\u0448\\u043d\\u0438 \\u0412\\u0438\\u043a\\u0442\\u043e\\u0440\\u0438\\u044f \\u0443\\u043c\\u043e\\u043b\\u044f\\u043b\\u0430 \\u0441\\u0432\\u043e\\u044e \\u0441\\u0435\\u0441\\u0442\\u0440\\u0443 \\u0434\\u043e\\u043a\\u0430\\u0437\\u0430\\u0442\\u044c \\u0435\\u0435 \\u043d\\u0435\\u0432\\u0438\\u043d\\u043e\\u0432\\u043d\\u043e\\u0441\\u0442\\u044c. \\u0414\\u0432\\u0430\\u0434\\u0446\\u0430\\u0442\\u044c \\u043b\\u0435\\u0442 \\u043d\\u0430\\u0437\\u0430\\u0434 \\u0435\\u0435 \\u043d\\u0438\\u043a\\u0442\\u043e \\u043d\\u0435 \\u0443\\u0441\\u043b\\u044b\\u0448\\u0430\\u043b. \\u0421\\u0435\\u0433\\u043e\\u0434\\u043d\\u044f \\u0435\\u0435 \\u0440\\u0430\\u0441\\u0441\\u043a\\u0430\\u0437 \\u0443\\u0441\\u043b\\u044b\\u0448\\u0438\\u0442\\u0435 \\u0432\\u044b.\"\n        ],\n        \"semantic_type\": \"\",\n        \"description\": \"\"\n      }\n    },\n    {\n      \"column\": \"num of pages\",\n      \"properties\": {\n        \"dtype\": \"category\",\n        \"num_unique_values\": 285,\n        \"samples\": [\n          \"288\",\n          \"990\",\n          \"1.453\\u00a0\\u043a\\u0433.\"\n        ],\n        \"semantic_type\": \"\",\n        \"description\": \"\"\n      }\n    },\n    {\n      \"column\": \"genre\",\n      \"properties\": {\n        \"dtype\": \"category\",\n        \"num_unique_values\": 56,\n        \"samples\": [\n          \"\\u041c\\u0438\\u0444\\u044b. \\u0424\\u043e\\u043b\\u044c\\u043a\\u043b\\u043e\\u0440\",\n          \"\\u0421\\u0435\\u043d\\u0442\\u0438\\u043c\\u0435\\u043d\\u0442\\u0430\\u043b\\u044c\\u043d\\u0430\\u044f \\u043f\\u0440\\u043e\\u0437\\u0430\",\n          \"Marvel\"\n        ],\n        \"semantic_type\": \"\",\n        \"description\": \"\"\n      }\n    },\n    {\n      \"column\": \"series\",\n      \"properties\": {\n        \"dtype\": \"category\",\n        \"num_unique_values\": 5610,\n        \"samples\": [\n          \".\",\n          \"\\u0410\\u043b\\u044c\\u0442\\u0435\\u0440\\u043d\\u0430\\u0442\\u0438\\u0432\\u0430(\\u0444\\u0430\\u043d\\u0442)\",\n          \"\\u0416\\u0435\\u043d.\\u0440\\u043e\\u043c(\\u043c).\\u0418\\u0441\\u043a\\u0440\\u0430\"\n        ],\n        \"semantic_type\": \"\",\n        \"description\": \"\"\n      }\n    },\n    {\n      \"column\": \"book cover\",\n      \"properties\": {\n        \"dtype\": \"string\",\n        \"num_unique_values\": 29213,\n        \"samples\": [\n          \"https://cdn.ast.ru/v2/AST000000000078751/COVER/cover1__w220.jpg\",\n          \"https://cdn.ast.ru/v2/ASE000000000826096/COVER/cover1__w220.jpg\",\n          \"https://cdn.ast.ru/v2/AST000000000020627/COVER/cover1__w220.jpg\"\n        ],\n        \"semantic_type\": \"\",\n        \"description\": \"\"\n      }\n    }\n  ]\n}"
            }
          },
          "metadata": {},
          "execution_count": 78
        }
      ]
    },
    {
      "cell_type": "markdown",
      "source": [
        "Смотрим пропуски"
      ],
      "metadata": {
        "id": "pgLTfxQXRnPF"
      }
    },
    {
      "cell_type": "code",
      "source": [
        "data.isna().sum()"
      ],
      "metadata": {
        "colab": {
          "base_uri": "https://localhost:8080/",
          "height": 303
        },
        "id": "JX5MHtb-P924",
        "outputId": "3d0f4807-9d59-43f3-b704-5ace3ee39e79"
      },
      "execution_count": 79,
      "outputs": [
        {
          "output_type": "execute_result",
          "data": {
            "text/plain": [
              "Title              0\n",
              "Author          3940\n",
              "Annotation       577\n",
              "num of pages       0\n",
              "genre              0\n",
              "series           606\n",
              "book cover         0\n",
              "dtype: int64"
            ],
            "text/html": [
              "<div>\n",
              "<style scoped>\n",
              "    .dataframe tbody tr th:only-of-type {\n",
              "        vertical-align: middle;\n",
              "    }\n",
              "\n",
              "    .dataframe tbody tr th {\n",
              "        vertical-align: top;\n",
              "    }\n",
              "\n",
              "    .dataframe thead th {\n",
              "        text-align: right;\n",
              "    }\n",
              "</style>\n",
              "<table border=\"1\" class=\"dataframe\">\n",
              "  <thead>\n",
              "    <tr style=\"text-align: right;\">\n",
              "      <th></th>\n",
              "      <th>0</th>\n",
              "    </tr>\n",
              "  </thead>\n",
              "  <tbody>\n",
              "    <tr>\n",
              "      <th>Title</th>\n",
              "      <td>0</td>\n",
              "    </tr>\n",
              "    <tr>\n",
              "      <th>Author</th>\n",
              "      <td>3940</td>\n",
              "    </tr>\n",
              "    <tr>\n",
              "      <th>Annotation</th>\n",
              "      <td>577</td>\n",
              "    </tr>\n",
              "    <tr>\n",
              "      <th>num of pages</th>\n",
              "      <td>0</td>\n",
              "    </tr>\n",
              "    <tr>\n",
              "      <th>genre</th>\n",
              "      <td>0</td>\n",
              "    </tr>\n",
              "    <tr>\n",
              "      <th>series</th>\n",
              "      <td>606</td>\n",
              "    </tr>\n",
              "    <tr>\n",
              "      <th>book cover</th>\n",
              "      <td>0</td>\n",
              "    </tr>\n",
              "  </tbody>\n",
              "</table>\n",
              "</div><br><label><b>dtype:</b> int64</label>"
            ]
          },
          "metadata": {},
          "execution_count": 79
        }
      ]
    },
    {
      "cell_type": "markdown",
      "source": [
        "У некоторых книг нет автора, такое бывает, думаю заменть Nan, на Без автора\n",
        "Так же считаю нормальным, что нет указана серия, и аннотация не у всех книг они бывают"
      ],
      "metadata": {
        "id": "NMnRfTl3RzEm"
      }
    },
    {
      "cell_type": "code",
      "source": [
        "data['Author'].fillna('Без автора', inplace=True)\n",
        "data['Annotation'].fillna('Без аннотации', inplace=True)\n",
        "data['series'].fillna('Без серии', inplace=True)"
      ],
      "metadata": {
        "colab": {
          "base_uri": "https://localhost:8080/"
        },
        "id": "aLFK48K-Qh53",
        "outputId": "b33dca46-ca8c-46b9-86a2-4cd0d35b15b6"
      },
      "execution_count": 80,
      "outputs": [
        {
          "output_type": "stream",
          "name": "stderr",
          "text": [
            "<ipython-input-80-e2f34934288e>:1: FutureWarning: A value is trying to be set on a copy of a DataFrame or Series through chained assignment using an inplace method.\n",
            "The behavior will change in pandas 3.0. This inplace method will never work because the intermediate object on which we are setting values always behaves as a copy.\n",
            "\n",
            "For example, when doing 'df[col].method(value, inplace=True)', try using 'df.method({col: value}, inplace=True)' or df[col] = df[col].method(value) instead, to perform the operation inplace on the original object.\n",
            "\n",
            "\n",
            "  data['Author'].fillna('Без автора', inplace=True)\n",
            "<ipython-input-80-e2f34934288e>:2: FutureWarning: A value is trying to be set on a copy of a DataFrame or Series through chained assignment using an inplace method.\n",
            "The behavior will change in pandas 3.0. This inplace method will never work because the intermediate object on which we are setting values always behaves as a copy.\n",
            "\n",
            "For example, when doing 'df[col].method(value, inplace=True)', try using 'df.method({col: value}, inplace=True)' or df[col] = df[col].method(value) instead, to perform the operation inplace on the original object.\n",
            "\n",
            "\n",
            "  data['Annotation'].fillna('Без аннотации', inplace=True)\n",
            "<ipython-input-80-e2f34934288e>:3: FutureWarning: A value is trying to be set on a copy of a DataFrame or Series through chained assignment using an inplace method.\n",
            "The behavior will change in pandas 3.0. This inplace method will never work because the intermediate object on which we are setting values always behaves as a copy.\n",
            "\n",
            "For example, when doing 'df[col].method(value, inplace=True)', try using 'df.method({col: value}, inplace=True)' or df[col] = df[col].method(value) instead, to perform the operation inplace on the original object.\n",
            "\n",
            "\n",
            "  data['series'].fillna('Без серии', inplace=True)\n"
          ]
        }
      ]
    },
    {
      "cell_type": "code",
      "source": [
        "print(data.isna().sum())\n",
        "print()\n",
        "print(data.dtypes)"
      ],
      "metadata": {
        "colab": {
          "base_uri": "https://localhost:8080/"
        },
        "id": "gtC5BA-ESqOB",
        "outputId": "251303dc-dee8-4a7a-86f9-f2f327284709"
      },
      "execution_count": 81,
      "outputs": [
        {
          "output_type": "stream",
          "name": "stdout",
          "text": [
            "Title           0\n",
            "Author          0\n",
            "Annotation      0\n",
            "num of pages    0\n",
            "genre           0\n",
            "series          0\n",
            "book cover      0\n",
            "dtype: int64\n",
            "\n",
            "Title           object\n",
            "Author          object\n",
            "Annotation      object\n",
            "num of pages    object\n",
            "genre           object\n",
            "series          object\n",
            "book cover      object\n",
            "dtype: object\n"
          ]
        }
      ]
    },
    {
      "cell_type": "markdown",
      "source": [
        "У некоторых страничек, в месте где обычно указан количество страниц, был указан вес, без указания страниц"
      ],
      "metadata": {
        "id": "0k3fkR4IUOul"
      }
    },
    {
      "cell_type": "code",
      "source": [
        "mask = data['num of pages'].str.contains('кг', case=False)\n",
        "data['num of pages'][mask]"
      ],
      "metadata": {
        "colab": {
          "base_uri": "https://localhost:8080/",
          "height": 458
        },
        "id": "fa_QlJxMT5GE",
        "outputId": "8e177cc2-e43a-45d9-ca2f-4bbf70118d99"
      },
      "execution_count": 82,
      "outputs": [
        {
          "output_type": "execute_result",
          "data": {
            "text/plain": [
              "1437     1.085 кг.\n",
              "3453      1.31 кг.\n",
              "3853     1.107 кг.\n",
              "4077     1.144 кг.\n",
              "5115     0.021 кг.\n",
              "           ...    \n",
              "17705    0.457 кг.\n",
              "17935      0.1 кг.\n",
              "18002    0.457 кг.\n",
              "18715    0.295 кг.\n",
              "27103    0.161 кг.\n",
              "Name: num of pages, Length: 61, dtype: object"
            ],
            "text/html": [
              "<div>\n",
              "<style scoped>\n",
              "    .dataframe tbody tr th:only-of-type {\n",
              "        vertical-align: middle;\n",
              "    }\n",
              "\n",
              "    .dataframe tbody tr th {\n",
              "        vertical-align: top;\n",
              "    }\n",
              "\n",
              "    .dataframe thead th {\n",
              "        text-align: right;\n",
              "    }\n",
              "</style>\n",
              "<table border=\"1\" class=\"dataframe\">\n",
              "  <thead>\n",
              "    <tr style=\"text-align: right;\">\n",
              "      <th></th>\n",
              "      <th>num of pages</th>\n",
              "    </tr>\n",
              "  </thead>\n",
              "  <tbody>\n",
              "    <tr>\n",
              "      <th>1437</th>\n",
              "      <td>1.085 кг.</td>\n",
              "    </tr>\n",
              "    <tr>\n",
              "      <th>3453</th>\n",
              "      <td>1.31 кг.</td>\n",
              "    </tr>\n",
              "    <tr>\n",
              "      <th>3853</th>\n",
              "      <td>1.107 кг.</td>\n",
              "    </tr>\n",
              "    <tr>\n",
              "      <th>4077</th>\n",
              "      <td>1.144 кг.</td>\n",
              "    </tr>\n",
              "    <tr>\n",
              "      <th>5115</th>\n",
              "      <td>0.021 кг.</td>\n",
              "    </tr>\n",
              "    <tr>\n",
              "      <th>...</th>\n",
              "      <td>...</td>\n",
              "    </tr>\n",
              "    <tr>\n",
              "      <th>17705</th>\n",
              "      <td>0.457 кг.</td>\n",
              "    </tr>\n",
              "    <tr>\n",
              "      <th>17935</th>\n",
              "      <td>0.1 кг.</td>\n",
              "    </tr>\n",
              "    <tr>\n",
              "      <th>18002</th>\n",
              "      <td>0.457 кг.</td>\n",
              "    </tr>\n",
              "    <tr>\n",
              "      <th>18715</th>\n",
              "      <td>0.295 кг.</td>\n",
              "    </tr>\n",
              "    <tr>\n",
              "      <th>27103</th>\n",
              "      <td>0.161 кг.</td>\n",
              "    </tr>\n",
              "  </tbody>\n",
              "</table>\n",
              "<p>61 rows × 1 columns</p>\n",
              "</div><br><label><b>dtype:</b> object</label>"
            ]
          },
          "metadata": {},
          "execution_count": 82
        }
      ]
    },
    {
      "cell_type": "code",
      "source": [
        "(data['Author'][mask] == 'Без автора').sum()"
      ],
      "metadata": {
        "colab": {
          "base_uri": "https://localhost:8080/"
        },
        "id": "GEbf-qBGUZNh",
        "outputId": "a5df8058-469d-43db-83c7-c8365a41060f"
      },
      "execution_count": 83,
      "outputs": [
        {
          "output_type": "execute_result",
          "data": {
            "text/plain": [
              "27"
            ]
          },
          "metadata": {},
          "execution_count": 83
        }
      ]
    },
    {
      "cell_type": "markdown",
      "source": [
        "То есть половина книг где не было автора, не имеет и данных о кол-ве страниц"
      ],
      "metadata": {
        "id": "sDCIRka2VGmt"
      }
    },
    {
      "cell_type": "code",
      "source": [
        "mask_audio = data['Title'].str.contains('Аудиокн.', case=False)\n",
        "data['Title'][mask_audio]"
      ],
      "metadata": {
        "colab": {
          "base_uri": "https://localhost:8080/",
          "height": 680
        },
        "id": "kZ1gmxtyXC1P",
        "outputId": "9f0440e1-63c9-4934-c313-e6380a5485e4"
      },
      "execution_count": 84,
      "outputs": [
        {
          "output_type": "execute_result",
          "data": {
            "text/plain": [
              "13678                         Аудиокн. Водолазкин. Авиатор\n",
              "14129      Аудиокн. Цыпкин. Женщины непреклонного возраста\n",
              "14553    Аудиокн. Устинова. Шекспир мне друг, но истина...\n",
              "14554        Аудиокн. Пелевин. Смотритель. Железная бездна\n",
              "14572    Аудиокн. Пелевин. Смотритель. Орден жёлтого флага\n",
              "14707                 Аудиокн. Васильев. Пограничье.Рекрут\n",
              "14746             Аудиокн. Ремарк. Возлюби ближнего своего\n",
              "14840            Аудиокн. Маринина. Оборванные нити. Том 3\n",
              "14841                              Аудиокн. Кинг. 11/22/63\n",
              "14906                       Аудиокн. Кинг. Мистер Мерседес\n",
              "14979                Аудиокн. Бель де Жур. Гид по мужчинам\n",
              "14987                            Аудиокн. Волков. Ренегаты\n",
              "14991           Аудиокн. Литвиновы. Ныряльщица за жемчугом\n",
              "15162                         Аудиокн. Рой. Повторный брак\n",
              "15263     Аудиокн. Андерсон. Пятьдесят оттенков подчинения\n",
              "29205           Аудиокн. Пелевин. Священная книга оборотня\n",
              "29206              Аудиокн. Брусникин. Герой иного времени\n",
              "29208    Аудиокн. Сэ. Сантехник, его кот, жена и другие...\n",
              "29209               Аудиокн. Акунин. Мука разбитого сердца\n",
              "Name: Title, dtype: object"
            ],
            "text/html": [
              "<div>\n",
              "<style scoped>\n",
              "    .dataframe tbody tr th:only-of-type {\n",
              "        vertical-align: middle;\n",
              "    }\n",
              "\n",
              "    .dataframe tbody tr th {\n",
              "        vertical-align: top;\n",
              "    }\n",
              "\n",
              "    .dataframe thead th {\n",
              "        text-align: right;\n",
              "    }\n",
              "</style>\n",
              "<table border=\"1\" class=\"dataframe\">\n",
              "  <thead>\n",
              "    <tr style=\"text-align: right;\">\n",
              "      <th></th>\n",
              "      <th>Title</th>\n",
              "    </tr>\n",
              "  </thead>\n",
              "  <tbody>\n",
              "    <tr>\n",
              "      <th>13678</th>\n",
              "      <td>Аудиокн. Водолазкин. Авиатор</td>\n",
              "    </tr>\n",
              "    <tr>\n",
              "      <th>14129</th>\n",
              "      <td>Аудиокн. Цыпкин. Женщины непреклонного возраста</td>\n",
              "    </tr>\n",
              "    <tr>\n",
              "      <th>14553</th>\n",
              "      <td>Аудиокн. Устинова. Шекспир мне друг, но истина...</td>\n",
              "    </tr>\n",
              "    <tr>\n",
              "      <th>14554</th>\n",
              "      <td>Аудиокн. Пелевин. Смотритель. Железная бездна</td>\n",
              "    </tr>\n",
              "    <tr>\n",
              "      <th>14572</th>\n",
              "      <td>Аудиокн. Пелевин. Смотритель. Орден жёлтого флага</td>\n",
              "    </tr>\n",
              "    <tr>\n",
              "      <th>14707</th>\n",
              "      <td>Аудиокн. Васильев. Пограничье.Рекрут</td>\n",
              "    </tr>\n",
              "    <tr>\n",
              "      <th>14746</th>\n",
              "      <td>Аудиокн. Ремарк. Возлюби ближнего своего</td>\n",
              "    </tr>\n",
              "    <tr>\n",
              "      <th>14840</th>\n",
              "      <td>Аудиокн. Маринина. Оборванные нити. Том 3</td>\n",
              "    </tr>\n",
              "    <tr>\n",
              "      <th>14841</th>\n",
              "      <td>Аудиокн. Кинг. 11/22/63</td>\n",
              "    </tr>\n",
              "    <tr>\n",
              "      <th>14906</th>\n",
              "      <td>Аудиокн. Кинг. Мистер Мерседес</td>\n",
              "    </tr>\n",
              "    <tr>\n",
              "      <th>14979</th>\n",
              "      <td>Аудиокн. Бель де Жур. Гид по мужчинам</td>\n",
              "    </tr>\n",
              "    <tr>\n",
              "      <th>14987</th>\n",
              "      <td>Аудиокн. Волков. Ренегаты</td>\n",
              "    </tr>\n",
              "    <tr>\n",
              "      <th>14991</th>\n",
              "      <td>Аудиокн. Литвиновы. Ныряльщица за жемчугом</td>\n",
              "    </tr>\n",
              "    <tr>\n",
              "      <th>15162</th>\n",
              "      <td>Аудиокн. Рой. Повторный брак</td>\n",
              "    </tr>\n",
              "    <tr>\n",
              "      <th>15263</th>\n",
              "      <td>Аудиокн. Андерсон. Пятьдесят оттенков подчинения</td>\n",
              "    </tr>\n",
              "    <tr>\n",
              "      <th>29205</th>\n",
              "      <td>Аудиокн. Пелевин. Священная книга оборотня</td>\n",
              "    </tr>\n",
              "    <tr>\n",
              "      <th>29206</th>\n",
              "      <td>Аудиокн. Брусникин. Герой иного времени</td>\n",
              "    </tr>\n",
              "    <tr>\n",
              "      <th>29208</th>\n",
              "      <td>Аудиокн. Сэ. Сантехник, его кот, жена и другие...</td>\n",
              "    </tr>\n",
              "    <tr>\n",
              "      <th>29209</th>\n",
              "      <td>Аудиокн. Акунин. Мука разбитого сердца</td>\n",
              "    </tr>\n",
              "  </tbody>\n",
              "</table>\n",
              "</div><br><label><b>dtype:</b> object</label>"
            ]
          },
          "metadata": {},
          "execution_count": 84
        }
      ]
    },
    {
      "cell_type": "markdown",
      "source": [
        "Удалим строки где нет страниц, и аудиокниги"
      ],
      "metadata": {
        "id": "1t4ySIYTW9Nb"
      }
    },
    {
      "cell_type": "code",
      "source": [
        "data.drop(data[mask].index, inplace=True)\n",
        "data.drop(data[mask_audio].index, inplace=True)"
      ],
      "metadata": {
        "colab": {
          "base_uri": "https://localhost:8080/"
        },
        "id": "vUoCQKoSS59i",
        "outputId": "31ff1507-31a9-4cca-8bed-43a77e34849a"
      },
      "execution_count": 85,
      "outputs": [
        {
          "output_type": "stream",
          "name": "stderr",
          "text": [
            "<ipython-input-85-6657a56d9547>:2: UserWarning: Boolean Series key will be reindexed to match DataFrame index.\n",
            "  data.drop(data[mask_audio].index, inplace=True)\n"
          ]
        }
      ]
    },
    {
      "cell_type": "code",
      "source": [
        "data.reset_index(inplace=True, drop=True)"
      ],
      "metadata": {
        "id": "72-uCtFjWqPP"
      },
      "execution_count": 86,
      "outputs": []
    },
    {
      "cell_type": "markdown",
      "source": [
        "В итоге, мы заполнили и убрали пропуски, убрали нерелевантные данные, можно теперь думать как использовать аннотации для рекомендательной системы, по описанию книги"
      ],
      "metadata": {
        "id": "7dGhh8-lXex0"
      }
    }
  ]
}