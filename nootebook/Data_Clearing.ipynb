{
  "nbformat": 4,
  "nbformat_minor": 0,
  "metadata": {
    "colab": {
      "provenance": []
    },
    "kernelspec": {
      "name": "python3",
      "display_name": "Python 3"
    },
    "language_info": {
      "name": "python"
    }
  },
  "cells": [
    {
      "cell_type": "code",
      "execution_count": 1,
      "metadata": {
        "id": "HD4xN9tlC2BR"
      },
      "outputs": [],
      "source": [
        "import pandas as pd\n",
        "import numpy as np"
      ]
    },
    {
      "cell_type": "code",
      "source": [
        "data = pd.read_csv('/content/merged_data_books.csv')"
      ],
      "metadata": {
        "id": "YOv1NAM4jqYa"
      },
      "execution_count": 4,
      "outputs": []
    },
    {
      "cell_type": "code",
      "source": [
        "data.drop('Unnamed: 0', axis=1, inplace=True)\n",
        "data.head()"
      ],
      "metadata": {
        "colab": {
          "base_uri": "https://localhost:8080/",
          "height": 304
        },
        "id": "0gjqSVe7P9Re",
        "outputId": "23ee28c0-331e-4650-bd5c-21ebf1962e19"
      },
      "execution_count": 22,
      "outputs": [
        {
          "output_type": "error",
          "ename": "KeyError",
          "evalue": "\"['Unnamed: 0'] not found in axis\"",
          "traceback": [
            "\u001b[0;31m---------------------------------------------------------------------------\u001b[0m",
            "\u001b[0;31mKeyError\u001b[0m                                  Traceback (most recent call last)",
            "\u001b[0;32m<ipython-input-22-27d32afb1098>\u001b[0m in \u001b[0;36m<cell line: 0>\u001b[0;34m()\u001b[0m\n\u001b[0;32m----> 1\u001b[0;31m \u001b[0mdata\u001b[0m\u001b[0;34m.\u001b[0m\u001b[0mdrop\u001b[0m\u001b[0;34m(\u001b[0m\u001b[0;34m'Unnamed: 0'\u001b[0m\u001b[0;34m,\u001b[0m \u001b[0maxis\u001b[0m\u001b[0;34m=\u001b[0m\u001b[0;36m1\u001b[0m\u001b[0;34m,\u001b[0m \u001b[0minplace\u001b[0m\u001b[0;34m=\u001b[0m\u001b[0;32mTrue\u001b[0m\u001b[0;34m)\u001b[0m\u001b[0;34m\u001b[0m\u001b[0;34m\u001b[0m\u001b[0m\n\u001b[0m\u001b[1;32m      2\u001b[0m \u001b[0mdata\u001b[0m\u001b[0;34m.\u001b[0m\u001b[0mhead\u001b[0m\u001b[0;34m(\u001b[0m\u001b[0;34m)\u001b[0m\u001b[0;34m\u001b[0m\u001b[0;34m\u001b[0m\u001b[0m\n",
            "\u001b[0;32m/usr/local/lib/python3.11/dist-packages/pandas/core/frame.py\u001b[0m in \u001b[0;36mdrop\u001b[0;34m(self, labels, axis, index, columns, level, inplace, errors)\u001b[0m\n\u001b[1;32m   5579\u001b[0m                 \u001b[0mweight\u001b[0m  \u001b[0;36m1.0\u001b[0m     \u001b[0;36m0.8\u001b[0m\u001b[0;34m\u001b[0m\u001b[0;34m\u001b[0m\u001b[0m\n\u001b[1;32m   5580\u001b[0m         \"\"\"\n\u001b[0;32m-> 5581\u001b[0;31m         return super().drop(\n\u001b[0m\u001b[1;32m   5582\u001b[0m             \u001b[0mlabels\u001b[0m\u001b[0;34m=\u001b[0m\u001b[0mlabels\u001b[0m\u001b[0;34m,\u001b[0m\u001b[0;34m\u001b[0m\u001b[0;34m\u001b[0m\u001b[0m\n\u001b[1;32m   5583\u001b[0m             \u001b[0maxis\u001b[0m\u001b[0;34m=\u001b[0m\u001b[0maxis\u001b[0m\u001b[0;34m,\u001b[0m\u001b[0;34m\u001b[0m\u001b[0;34m\u001b[0m\u001b[0m\n",
            "\u001b[0;32m/usr/local/lib/python3.11/dist-packages/pandas/core/generic.py\u001b[0m in \u001b[0;36mdrop\u001b[0;34m(self, labels, axis, index, columns, level, inplace, errors)\u001b[0m\n\u001b[1;32m   4786\u001b[0m         \u001b[0;32mfor\u001b[0m \u001b[0maxis\u001b[0m\u001b[0;34m,\u001b[0m \u001b[0mlabels\u001b[0m \u001b[0;32min\u001b[0m \u001b[0maxes\u001b[0m\u001b[0;34m.\u001b[0m\u001b[0mitems\u001b[0m\u001b[0;34m(\u001b[0m\u001b[0;34m)\u001b[0m\u001b[0;34m:\u001b[0m\u001b[0;34m\u001b[0m\u001b[0;34m\u001b[0m\u001b[0m\n\u001b[1;32m   4787\u001b[0m             \u001b[0;32mif\u001b[0m \u001b[0mlabels\u001b[0m \u001b[0;32mis\u001b[0m \u001b[0;32mnot\u001b[0m \u001b[0;32mNone\u001b[0m\u001b[0;34m:\u001b[0m\u001b[0;34m\u001b[0m\u001b[0;34m\u001b[0m\u001b[0m\n\u001b[0;32m-> 4788\u001b[0;31m                 \u001b[0mobj\u001b[0m \u001b[0;34m=\u001b[0m \u001b[0mobj\u001b[0m\u001b[0;34m.\u001b[0m\u001b[0m_drop_axis\u001b[0m\u001b[0;34m(\u001b[0m\u001b[0mlabels\u001b[0m\u001b[0;34m,\u001b[0m \u001b[0maxis\u001b[0m\u001b[0;34m,\u001b[0m \u001b[0mlevel\u001b[0m\u001b[0;34m=\u001b[0m\u001b[0mlevel\u001b[0m\u001b[0;34m,\u001b[0m \u001b[0merrors\u001b[0m\u001b[0;34m=\u001b[0m\u001b[0merrors\u001b[0m\u001b[0;34m)\u001b[0m\u001b[0;34m\u001b[0m\u001b[0;34m\u001b[0m\u001b[0m\n\u001b[0m\u001b[1;32m   4789\u001b[0m \u001b[0;34m\u001b[0m\u001b[0m\n\u001b[1;32m   4790\u001b[0m         \u001b[0;32mif\u001b[0m \u001b[0minplace\u001b[0m\u001b[0;34m:\u001b[0m\u001b[0;34m\u001b[0m\u001b[0;34m\u001b[0m\u001b[0m\n",
            "\u001b[0;32m/usr/local/lib/python3.11/dist-packages/pandas/core/generic.py\u001b[0m in \u001b[0;36m_drop_axis\u001b[0;34m(self, labels, axis, level, errors, only_slice)\u001b[0m\n\u001b[1;32m   4828\u001b[0m                 \u001b[0mnew_axis\u001b[0m \u001b[0;34m=\u001b[0m \u001b[0maxis\u001b[0m\u001b[0;34m.\u001b[0m\u001b[0mdrop\u001b[0m\u001b[0;34m(\u001b[0m\u001b[0mlabels\u001b[0m\u001b[0;34m,\u001b[0m \u001b[0mlevel\u001b[0m\u001b[0;34m=\u001b[0m\u001b[0mlevel\u001b[0m\u001b[0;34m,\u001b[0m \u001b[0merrors\u001b[0m\u001b[0;34m=\u001b[0m\u001b[0merrors\u001b[0m\u001b[0;34m)\u001b[0m\u001b[0;34m\u001b[0m\u001b[0;34m\u001b[0m\u001b[0m\n\u001b[1;32m   4829\u001b[0m             \u001b[0;32melse\u001b[0m\u001b[0;34m:\u001b[0m\u001b[0;34m\u001b[0m\u001b[0;34m\u001b[0m\u001b[0m\n\u001b[0;32m-> 4830\u001b[0;31m                 \u001b[0mnew_axis\u001b[0m \u001b[0;34m=\u001b[0m \u001b[0maxis\u001b[0m\u001b[0;34m.\u001b[0m\u001b[0mdrop\u001b[0m\u001b[0;34m(\u001b[0m\u001b[0mlabels\u001b[0m\u001b[0;34m,\u001b[0m \u001b[0merrors\u001b[0m\u001b[0;34m=\u001b[0m\u001b[0merrors\u001b[0m\u001b[0;34m)\u001b[0m\u001b[0;34m\u001b[0m\u001b[0;34m\u001b[0m\u001b[0m\n\u001b[0m\u001b[1;32m   4831\u001b[0m             \u001b[0mindexer\u001b[0m \u001b[0;34m=\u001b[0m \u001b[0maxis\u001b[0m\u001b[0;34m.\u001b[0m\u001b[0mget_indexer\u001b[0m\u001b[0;34m(\u001b[0m\u001b[0mnew_axis\u001b[0m\u001b[0;34m)\u001b[0m\u001b[0;34m\u001b[0m\u001b[0;34m\u001b[0m\u001b[0m\n\u001b[1;32m   4832\u001b[0m \u001b[0;34m\u001b[0m\u001b[0m\n",
            "\u001b[0;32m/usr/local/lib/python3.11/dist-packages/pandas/core/indexes/base.py\u001b[0m in \u001b[0;36mdrop\u001b[0;34m(self, labels, errors)\u001b[0m\n\u001b[1;32m   7068\u001b[0m         \u001b[0;32mif\u001b[0m \u001b[0mmask\u001b[0m\u001b[0;34m.\u001b[0m\u001b[0many\u001b[0m\u001b[0;34m(\u001b[0m\u001b[0;34m)\u001b[0m\u001b[0;34m:\u001b[0m\u001b[0;34m\u001b[0m\u001b[0;34m\u001b[0m\u001b[0m\n\u001b[1;32m   7069\u001b[0m             \u001b[0;32mif\u001b[0m \u001b[0merrors\u001b[0m \u001b[0;34m!=\u001b[0m \u001b[0;34m\"ignore\"\u001b[0m\u001b[0;34m:\u001b[0m\u001b[0;34m\u001b[0m\u001b[0;34m\u001b[0m\u001b[0m\n\u001b[0;32m-> 7070\u001b[0;31m                 \u001b[0;32mraise\u001b[0m \u001b[0mKeyError\u001b[0m\u001b[0;34m(\u001b[0m\u001b[0;34mf\"{labels[mask].tolist()} not found in axis\"\u001b[0m\u001b[0;34m)\u001b[0m\u001b[0;34m\u001b[0m\u001b[0;34m\u001b[0m\u001b[0m\n\u001b[0m\u001b[1;32m   7071\u001b[0m             \u001b[0mindexer\u001b[0m \u001b[0;34m=\u001b[0m \u001b[0mindexer\u001b[0m\u001b[0;34m[\u001b[0m\u001b[0;34m~\u001b[0m\u001b[0mmask\u001b[0m\u001b[0;34m]\u001b[0m\u001b[0;34m\u001b[0m\u001b[0;34m\u001b[0m\u001b[0m\n\u001b[1;32m   7072\u001b[0m         \u001b[0;32mreturn\u001b[0m \u001b[0mself\u001b[0m\u001b[0;34m.\u001b[0m\u001b[0mdelete\u001b[0m\u001b[0;34m(\u001b[0m\u001b[0mindexer\u001b[0m\u001b[0;34m)\u001b[0m\u001b[0;34m\u001b[0m\u001b[0;34m\u001b[0m\u001b[0m\n",
            "\u001b[0;31mKeyError\u001b[0m: \"['Unnamed: 0'] not found in axis\""
          ]
        }
      ]
    },
    {
      "cell_type": "markdown",
      "source": [
        "Смотрим пропуски"
      ],
      "metadata": {
        "id": "pgLTfxQXRnPF"
      }
    },
    {
      "cell_type": "code",
      "source": [
        "data.isna().sum()"
      ],
      "metadata": {
        "colab": {
          "base_uri": "https://localhost:8080/",
          "height": 303
        },
        "id": "JX5MHtb-P924",
        "outputId": "c07f2238-a422-4225-e180-b2b6c9a691ca"
      },
      "execution_count": 6,
      "outputs": [
        {
          "output_type": "execute_result",
          "data": {
            "text/plain": [
              "Title              0\n",
              "Author          3940\n",
              "Annotation       577\n",
              "num of pages       0\n",
              "genre              0\n",
              "series           606\n",
              "book cover         0\n",
              "dtype: int64"
            ],
            "text/html": [
              "<div>\n",
              "<style scoped>\n",
              "    .dataframe tbody tr th:only-of-type {\n",
              "        vertical-align: middle;\n",
              "    }\n",
              "\n",
              "    .dataframe tbody tr th {\n",
              "        vertical-align: top;\n",
              "    }\n",
              "\n",
              "    .dataframe thead th {\n",
              "        text-align: right;\n",
              "    }\n",
              "</style>\n",
              "<table border=\"1\" class=\"dataframe\">\n",
              "  <thead>\n",
              "    <tr style=\"text-align: right;\">\n",
              "      <th></th>\n",
              "      <th>0</th>\n",
              "    </tr>\n",
              "  </thead>\n",
              "  <tbody>\n",
              "    <tr>\n",
              "      <th>Title</th>\n",
              "      <td>0</td>\n",
              "    </tr>\n",
              "    <tr>\n",
              "      <th>Author</th>\n",
              "      <td>3940</td>\n",
              "    </tr>\n",
              "    <tr>\n",
              "      <th>Annotation</th>\n",
              "      <td>577</td>\n",
              "    </tr>\n",
              "    <tr>\n",
              "      <th>num of pages</th>\n",
              "      <td>0</td>\n",
              "    </tr>\n",
              "    <tr>\n",
              "      <th>genre</th>\n",
              "      <td>0</td>\n",
              "    </tr>\n",
              "    <tr>\n",
              "      <th>series</th>\n",
              "      <td>606</td>\n",
              "    </tr>\n",
              "    <tr>\n",
              "      <th>book cover</th>\n",
              "      <td>0</td>\n",
              "    </tr>\n",
              "  </tbody>\n",
              "</table>\n",
              "</div><br><label><b>dtype:</b> int64</label>"
            ]
          },
          "metadata": {},
          "execution_count": 6
        }
      ]
    },
    {
      "cell_type": "markdown",
      "source": [
        "У некоторых книг нет автора, такое бывает, думаю заменть Nan, на Без автора\n",
        "Так же считаю нормальным, что нет указана серия, и аннотация не у всех книг они бывают"
      ],
      "metadata": {
        "id": "NMnRfTl3RzEm"
      }
    },
    {
      "cell_type": "code",
      "source": [
        "data['Author'] = data['Author'].fillna('Без автора')\n",
        "data['Annotation'] = data['Annotation'].fillna('Без аннотации')\n",
        "data['series'] = data['series'].fillna('Без серии')"
      ],
      "metadata": {
        "id": "aLFK48K-Qh53"
      },
      "execution_count": 7,
      "outputs": []
    },
    {
      "cell_type": "code",
      "source": [
        "print(data.isna().sum())\n",
        "print()\n",
        "print(data.dtypes)"
      ],
      "metadata": {
        "colab": {
          "base_uri": "https://localhost:8080/"
        },
        "id": "gtC5BA-ESqOB",
        "outputId": "2991eabe-f9df-4f13-9606-e25d7db34efc"
      },
      "execution_count": 8,
      "outputs": [
        {
          "output_type": "stream",
          "name": "stdout",
          "text": [
            "Title           0\n",
            "Author          0\n",
            "Annotation      0\n",
            "num of pages    0\n",
            "genre           0\n",
            "series          0\n",
            "book cover      0\n",
            "dtype: int64\n",
            "\n",
            "Title           object\n",
            "Author          object\n",
            "Annotation      object\n",
            "num of pages    object\n",
            "genre           object\n",
            "series          object\n",
            "book cover      object\n",
            "dtype: object\n"
          ]
        }
      ]
    },
    {
      "cell_type": "markdown",
      "source": [
        "У некоторых страничек, в месте где обычно указан количество страниц, был указан вес, без указания страниц"
      ],
      "metadata": {
        "id": "0k3fkR4IUOul"
      }
    },
    {
      "cell_type": "code",
      "source": [
        "mask = data['num of pages'].str.contains('кг', case=False)\n",
        "data['num of pages'][mask]"
      ],
      "metadata": {
        "colab": {
          "base_uri": "https://localhost:8080/",
          "height": 458
        },
        "id": "fa_QlJxMT5GE",
        "outputId": "759a9710-024b-4bca-ebfa-145e4f3c7cda"
      },
      "execution_count": 9,
      "outputs": [
        {
          "output_type": "execute_result",
          "data": {
            "text/plain": [
              "1437     1.085 кг.\n",
              "3453      1.31 кг.\n",
              "3853     1.107 кг.\n",
              "4077     1.144 кг.\n",
              "5115     0.021 кг.\n",
              "           ...    \n",
              "17705    0.457 кг.\n",
              "17935      0.1 кг.\n",
              "18002    0.457 кг.\n",
              "18715    0.295 кг.\n",
              "27103    0.161 кг.\n",
              "Name: num of pages, Length: 61, dtype: object"
            ],
            "text/html": [
              "<div>\n",
              "<style scoped>\n",
              "    .dataframe tbody tr th:only-of-type {\n",
              "        vertical-align: middle;\n",
              "    }\n",
              "\n",
              "    .dataframe tbody tr th {\n",
              "        vertical-align: top;\n",
              "    }\n",
              "\n",
              "    .dataframe thead th {\n",
              "        text-align: right;\n",
              "    }\n",
              "</style>\n",
              "<table border=\"1\" class=\"dataframe\">\n",
              "  <thead>\n",
              "    <tr style=\"text-align: right;\">\n",
              "      <th></th>\n",
              "      <th>num of pages</th>\n",
              "    </tr>\n",
              "  </thead>\n",
              "  <tbody>\n",
              "    <tr>\n",
              "      <th>1437</th>\n",
              "      <td>1.085 кг.</td>\n",
              "    </tr>\n",
              "    <tr>\n",
              "      <th>3453</th>\n",
              "      <td>1.31 кг.</td>\n",
              "    </tr>\n",
              "    <tr>\n",
              "      <th>3853</th>\n",
              "      <td>1.107 кг.</td>\n",
              "    </tr>\n",
              "    <tr>\n",
              "      <th>4077</th>\n",
              "      <td>1.144 кг.</td>\n",
              "    </tr>\n",
              "    <tr>\n",
              "      <th>5115</th>\n",
              "      <td>0.021 кг.</td>\n",
              "    </tr>\n",
              "    <tr>\n",
              "      <th>...</th>\n",
              "      <td>...</td>\n",
              "    </tr>\n",
              "    <tr>\n",
              "      <th>17705</th>\n",
              "      <td>0.457 кг.</td>\n",
              "    </tr>\n",
              "    <tr>\n",
              "      <th>17935</th>\n",
              "      <td>0.1 кг.</td>\n",
              "    </tr>\n",
              "    <tr>\n",
              "      <th>18002</th>\n",
              "      <td>0.457 кг.</td>\n",
              "    </tr>\n",
              "    <tr>\n",
              "      <th>18715</th>\n",
              "      <td>0.295 кг.</td>\n",
              "    </tr>\n",
              "    <tr>\n",
              "      <th>27103</th>\n",
              "      <td>0.161 кг.</td>\n",
              "    </tr>\n",
              "  </tbody>\n",
              "</table>\n",
              "<p>61 rows × 1 columns</p>\n",
              "</div><br><label><b>dtype:</b> object</label>"
            ]
          },
          "metadata": {},
          "execution_count": 9
        }
      ]
    },
    {
      "cell_type": "code",
      "source": [
        "(data['Author'][mask] == 'Без автора').sum()"
      ],
      "metadata": {
        "colab": {
          "base_uri": "https://localhost:8080/"
        },
        "id": "GEbf-qBGUZNh",
        "outputId": "dbeafa03-058d-4503-9439-18875da36cc4"
      },
      "execution_count": 10,
      "outputs": [
        {
          "output_type": "execute_result",
          "data": {
            "text/plain": [
              "27"
            ]
          },
          "metadata": {},
          "execution_count": 10
        }
      ]
    },
    {
      "cell_type": "markdown",
      "source": [
        "То есть половина книг где не было автора, не имеет и данных о кол-ве страниц"
      ],
      "metadata": {
        "id": "sDCIRka2VGmt"
      }
    },
    {
      "cell_type": "code",
      "source": [
        "mask_audio = data['Title'].str.contains('Аудиокн.', case=False)\n",
        "data['Title'][mask_audio]"
      ],
      "metadata": {
        "colab": {
          "base_uri": "https://localhost:8080/",
          "height": 680
        },
        "id": "kZ1gmxtyXC1P",
        "outputId": "dab33be7-c865-404d-f611-4ddf53bc0764"
      },
      "execution_count": 11,
      "outputs": [
        {
          "output_type": "execute_result",
          "data": {
            "text/plain": [
              "13678                         Аудиокн. Водолазкин. Авиатор\n",
              "14129      Аудиокн. Цыпкин. Женщины непреклонного возраста\n",
              "14553    Аудиокн. Устинова. Шекспир мне друг, но истина...\n",
              "14554        Аудиокн. Пелевин. Смотритель. Железная бездна\n",
              "14572    Аудиокн. Пелевин. Смотритель. Орден жёлтого флага\n",
              "14707                 Аудиокн. Васильев. Пограничье.Рекрут\n",
              "14746             Аудиокн. Ремарк. Возлюби ближнего своего\n",
              "14840            Аудиокн. Маринина. Оборванные нити. Том 3\n",
              "14841                              Аудиокн. Кинг. 11/22/63\n",
              "14906                       Аудиокн. Кинг. Мистер Мерседес\n",
              "14979                Аудиокн. Бель де Жур. Гид по мужчинам\n",
              "14987                            Аудиокн. Волков. Ренегаты\n",
              "14991           Аудиокн. Литвиновы. Ныряльщица за жемчугом\n",
              "15162                         Аудиокн. Рой. Повторный брак\n",
              "15263     Аудиокн. Андерсон. Пятьдесят оттенков подчинения\n",
              "29205           Аудиокн. Пелевин. Священная книга оборотня\n",
              "29206              Аудиокн. Брусникин. Герой иного времени\n",
              "29208    Аудиокн. Сэ. Сантехник, его кот, жена и другие...\n",
              "29209               Аудиокн. Акунин. Мука разбитого сердца\n",
              "Name: Title, dtype: object"
            ],
            "text/html": [
              "<div>\n",
              "<style scoped>\n",
              "    .dataframe tbody tr th:only-of-type {\n",
              "        vertical-align: middle;\n",
              "    }\n",
              "\n",
              "    .dataframe tbody tr th {\n",
              "        vertical-align: top;\n",
              "    }\n",
              "\n",
              "    .dataframe thead th {\n",
              "        text-align: right;\n",
              "    }\n",
              "</style>\n",
              "<table border=\"1\" class=\"dataframe\">\n",
              "  <thead>\n",
              "    <tr style=\"text-align: right;\">\n",
              "      <th></th>\n",
              "      <th>Title</th>\n",
              "    </tr>\n",
              "  </thead>\n",
              "  <tbody>\n",
              "    <tr>\n",
              "      <th>13678</th>\n",
              "      <td>Аудиокн. Водолазкин. Авиатор</td>\n",
              "    </tr>\n",
              "    <tr>\n",
              "      <th>14129</th>\n",
              "      <td>Аудиокн. Цыпкин. Женщины непреклонного возраста</td>\n",
              "    </tr>\n",
              "    <tr>\n",
              "      <th>14553</th>\n",
              "      <td>Аудиокн. Устинова. Шекспир мне друг, но истина...</td>\n",
              "    </tr>\n",
              "    <tr>\n",
              "      <th>14554</th>\n",
              "      <td>Аудиокн. Пелевин. Смотритель. Железная бездна</td>\n",
              "    </tr>\n",
              "    <tr>\n",
              "      <th>14572</th>\n",
              "      <td>Аудиокн. Пелевин. Смотритель. Орден жёлтого флага</td>\n",
              "    </tr>\n",
              "    <tr>\n",
              "      <th>14707</th>\n",
              "      <td>Аудиокн. Васильев. Пограничье.Рекрут</td>\n",
              "    </tr>\n",
              "    <tr>\n",
              "      <th>14746</th>\n",
              "      <td>Аудиокн. Ремарк. Возлюби ближнего своего</td>\n",
              "    </tr>\n",
              "    <tr>\n",
              "      <th>14840</th>\n",
              "      <td>Аудиокн. Маринина. Оборванные нити. Том 3</td>\n",
              "    </tr>\n",
              "    <tr>\n",
              "      <th>14841</th>\n",
              "      <td>Аудиокн. Кинг. 11/22/63</td>\n",
              "    </tr>\n",
              "    <tr>\n",
              "      <th>14906</th>\n",
              "      <td>Аудиокн. Кинг. Мистер Мерседес</td>\n",
              "    </tr>\n",
              "    <tr>\n",
              "      <th>14979</th>\n",
              "      <td>Аудиокн. Бель де Жур. Гид по мужчинам</td>\n",
              "    </tr>\n",
              "    <tr>\n",
              "      <th>14987</th>\n",
              "      <td>Аудиокн. Волков. Ренегаты</td>\n",
              "    </tr>\n",
              "    <tr>\n",
              "      <th>14991</th>\n",
              "      <td>Аудиокн. Литвиновы. Ныряльщица за жемчугом</td>\n",
              "    </tr>\n",
              "    <tr>\n",
              "      <th>15162</th>\n",
              "      <td>Аудиокн. Рой. Повторный брак</td>\n",
              "    </tr>\n",
              "    <tr>\n",
              "      <th>15263</th>\n",
              "      <td>Аудиокн. Андерсон. Пятьдесят оттенков подчинения</td>\n",
              "    </tr>\n",
              "    <tr>\n",
              "      <th>29205</th>\n",
              "      <td>Аудиокн. Пелевин. Священная книга оборотня</td>\n",
              "    </tr>\n",
              "    <tr>\n",
              "      <th>29206</th>\n",
              "      <td>Аудиокн. Брусникин. Герой иного времени</td>\n",
              "    </tr>\n",
              "    <tr>\n",
              "      <th>29208</th>\n",
              "      <td>Аудиокн. Сэ. Сантехник, его кот, жена и другие...</td>\n",
              "    </tr>\n",
              "    <tr>\n",
              "      <th>29209</th>\n",
              "      <td>Аудиокн. Акунин. Мука разбитого сердца</td>\n",
              "    </tr>\n",
              "  </tbody>\n",
              "</table>\n",
              "</div><br><label><b>dtype:</b> object</label>"
            ]
          },
          "metadata": {},
          "execution_count": 11
        }
      ]
    },
    {
      "cell_type": "markdown",
      "source": [
        "Удалим строки где нет страниц, и аудиокниги"
      ],
      "metadata": {
        "id": "1t4ySIYTW9Nb"
      }
    },
    {
      "cell_type": "code",
      "source": [
        "data.drop(data[mask].index, inplace=True)\n",
        "data.drop(data[mask_audio].index, inplace=True)"
      ],
      "metadata": {
        "colab": {
          "base_uri": "https://localhost:8080/"
        },
        "id": "vUoCQKoSS59i",
        "outputId": "a2d4929f-2976-4846-9435-1321478f4459"
      },
      "execution_count": 12,
      "outputs": [
        {
          "output_type": "stream",
          "name": "stderr",
          "text": [
            "<ipython-input-12-6657a56d9547>:2: UserWarning: Boolean Series key will be reindexed to match DataFrame index.\n",
            "  data.drop(data[mask_audio].index, inplace=True)\n"
          ]
        }
      ]
    },
    {
      "cell_type": "code",
      "source": [
        "data.reset_index(inplace=True, drop=True)"
      ],
      "metadata": {
        "id": "72-uCtFjWqPP"
      },
      "execution_count": 13,
      "outputs": []
    },
    {
      "cell_type": "markdown",
      "source": [
        "В итоге, мы заполнили и убрали пропуски, убрали нерелевантные данные, можно теперь думать как использовать аннотации для рекомендательной системы, по описанию книги"
      ],
      "metadata": {
        "id": "7dGhh8-lXex0"
      }
    },
    {
      "cell_type": "code",
      "source": [
        "data"
      ],
      "metadata": {
        "id": "sRk_dICqIAXG",
        "outputId": "530aa4e7-9a93-400f-e88b-de9e69d8bf0b",
        "colab": {
          "base_uri": "https://localhost:8080/",
          "height": 615
        }
      },
      "execution_count": 14,
      "outputs": [
        {
          "output_type": "execute_result",
          "data": {
            "text/plain": [
              "                                       Title                  Author  \\\n",
              "0                 Славянские мифы и предания              Без автора   \n",
              "1                         Увидимся в августе  Гарсиа Маркес Габриэль   \n",
              "2                       Один из нас вернулся       Макманус Карен М.   \n",
              "3                           Снежная королева   Шварц Евгений Львович   \n",
              "4                          Обыкновенное чудо   Шварц Евгений Львович   \n",
              "...                                      ...                     ...   \n",
              "29136   Двойное экспресо (книга с закладкой)        Аккерман Василий   \n",
              "29137       ЭКС!Джеймс На 50 оттенков темнее              Без автора   \n",
              "29138  Добрые истории о котятах и волшебстве              Без автора   \n",
              "29139                           Хроники зоны              Без автора   \n",
              "29140                           Город стекла          Клэр Кассандра   \n",
              "\n",
              "                                              Annotation num of pages  \\\n",
              "0      В книге \"Славянские мифы и предания\" исследует...          208   \n",
              "1      Стройная красивая брюнетка снимает номер в зах...          160   \n",
              "2      Два года назад Саймон — школьный изгой, жесток...          352   \n",
              "3      Ни одна из сказок Шварца не заканчивается беза...          176   \n",
              "4      Ни одна из сказок Шварца не заканчивается беза...          176   \n",
              "...                                                  ...          ...   \n",
              "29136  Василий Аккерман— свременный российский публиц...          224   \n",
              "29137                                      Без аннотации          608   \n",
              "29138                                      Без аннотации          656   \n",
              "29139                                      Без аннотации         1440   \n",
              "29140  Кассандра Клэр – популярная американская писат...          576   \n",
              "\n",
              "                                                genre  \\\n",
              "0                                      Мифы. Фольклор   \n",
              "1                                   Современная проза   \n",
              "2                                           Детективы   \n",
              "3      Классическая литература для детей и подростков   \n",
              "4      Классическая литература для детей и подростков   \n",
              "...                                               ...   \n",
              "29136              Художественно-документальная проза   \n",
              "29137                           Сентиментальная проза   \n",
              "29138               Детская и подростковая литература   \n",
              "29139                                      Фантастика   \n",
              "29140                                         Фэнтези   \n",
              "\n",
              "                                        series  \\\n",
              "0                            Эхо древних миров   \n",
              "1                             Neoclassic проза   \n",
              "2                    Neoclassic: Расследование   \n",
              "3                                    Без серии   \n",
              "4                                    Без серии   \n",
              "...                                        ...   \n",
              "29136                            Тренды Рунета   \n",
              "29137                                Без серии   \n",
              "29138                                        .   \n",
              "29139                        Пикник на обочине   \n",
              "29140  Бестселлеры Кассандры Клэр (подарочное)   \n",
              "\n",
              "                                              book cover  \n",
              "0      https://cdn.ast.ru/v2/ASE000000000884911/COVER...  \n",
              "1      https://cdn.ast.ru/v2/ASE000000000878536/COVER...  \n",
              "2      https://cdn.ast.ru/v2/ASE000000000864344/COVER...  \n",
              "3      https://cdn.ast.ru/v2/ASE000000000886060/COVER...  \n",
              "4      https://cdn.ast.ru/v2/ASE000000000883923/COVER...  \n",
              "...                                                  ...  \n",
              "29136  https://cdn.ast.ru/v2/ASE000000000863094/COVER...  \n",
              "29137  https://cdn.ast.ru/v2/AST000000000052154/COVER...  \n",
              "29138  https://cdn.ast.ru/v2/ASE000000000840306/COVER...  \n",
              "29139  https://cdn.ast.ru/v2/ASE000000000722016/COVER...  \n",
              "29140  https://cdn.ast.ru/v2/ASE000000000879590/COVER...  \n",
              "\n",
              "[29141 rows x 7 columns]"
            ],
            "text/html": [
              "\n",
              "  <div id=\"df-1a94f7b8-8627-45a4-b9a4-b9969ff9813d\" class=\"colab-df-container\">\n",
              "    <div>\n",
              "<style scoped>\n",
              "    .dataframe tbody tr th:only-of-type {\n",
              "        vertical-align: middle;\n",
              "    }\n",
              "\n",
              "    .dataframe tbody tr th {\n",
              "        vertical-align: top;\n",
              "    }\n",
              "\n",
              "    .dataframe thead th {\n",
              "        text-align: right;\n",
              "    }\n",
              "</style>\n",
              "<table border=\"1\" class=\"dataframe\">\n",
              "  <thead>\n",
              "    <tr style=\"text-align: right;\">\n",
              "      <th></th>\n",
              "      <th>Title</th>\n",
              "      <th>Author</th>\n",
              "      <th>Annotation</th>\n",
              "      <th>num of pages</th>\n",
              "      <th>genre</th>\n",
              "      <th>series</th>\n",
              "      <th>book cover</th>\n",
              "    </tr>\n",
              "  </thead>\n",
              "  <tbody>\n",
              "    <tr>\n",
              "      <th>0</th>\n",
              "      <td>Славянские мифы и предания</td>\n",
              "      <td>Без автора</td>\n",
              "      <td>В книге \"Славянские мифы и предания\" исследует...</td>\n",
              "      <td>208</td>\n",
              "      <td>Мифы. Фольклор</td>\n",
              "      <td>Эхо древних миров</td>\n",
              "      <td>https://cdn.ast.ru/v2/ASE000000000884911/COVER...</td>\n",
              "    </tr>\n",
              "    <tr>\n",
              "      <th>1</th>\n",
              "      <td>Увидимся в августе</td>\n",
              "      <td>Гарсиа Маркес Габриэль</td>\n",
              "      <td>Стройная красивая брюнетка снимает номер в зах...</td>\n",
              "      <td>160</td>\n",
              "      <td>Современная проза</td>\n",
              "      <td>Neoclassic проза</td>\n",
              "      <td>https://cdn.ast.ru/v2/ASE000000000878536/COVER...</td>\n",
              "    </tr>\n",
              "    <tr>\n",
              "      <th>2</th>\n",
              "      <td>Один из нас вернулся</td>\n",
              "      <td>Макманус Карен М.</td>\n",
              "      <td>Два года назад Саймон — школьный изгой, жесток...</td>\n",
              "      <td>352</td>\n",
              "      <td>Детективы</td>\n",
              "      <td>Neoclassic: Расследование</td>\n",
              "      <td>https://cdn.ast.ru/v2/ASE000000000864344/COVER...</td>\n",
              "    </tr>\n",
              "    <tr>\n",
              "      <th>3</th>\n",
              "      <td>Снежная королева</td>\n",
              "      <td>Шварц Евгений Львович</td>\n",
              "      <td>Ни одна из сказок Шварца не заканчивается беза...</td>\n",
              "      <td>176</td>\n",
              "      <td>Классическая литература для детей и подростков</td>\n",
              "      <td>Без серии</td>\n",
              "      <td>https://cdn.ast.ru/v2/ASE000000000886060/COVER...</td>\n",
              "    </tr>\n",
              "    <tr>\n",
              "      <th>4</th>\n",
              "      <td>Обыкновенное чудо</td>\n",
              "      <td>Шварц Евгений Львович</td>\n",
              "      <td>Ни одна из сказок Шварца не заканчивается беза...</td>\n",
              "      <td>176</td>\n",
              "      <td>Классическая литература для детей и подростков</td>\n",
              "      <td>Без серии</td>\n",
              "      <td>https://cdn.ast.ru/v2/ASE000000000883923/COVER...</td>\n",
              "    </tr>\n",
              "    <tr>\n",
              "      <th>...</th>\n",
              "      <td>...</td>\n",
              "      <td>...</td>\n",
              "      <td>...</td>\n",
              "      <td>...</td>\n",
              "      <td>...</td>\n",
              "      <td>...</td>\n",
              "      <td>...</td>\n",
              "    </tr>\n",
              "    <tr>\n",
              "      <th>29136</th>\n",
              "      <td>Двойное экспресо (книга с закладкой)</td>\n",
              "      <td>Аккерман Василий</td>\n",
              "      <td>Василий Аккерман— свременный российский публиц...</td>\n",
              "      <td>224</td>\n",
              "      <td>Художественно-документальная проза</td>\n",
              "      <td>Тренды Рунета</td>\n",
              "      <td>https://cdn.ast.ru/v2/ASE000000000863094/COVER...</td>\n",
              "    </tr>\n",
              "    <tr>\n",
              "      <th>29137</th>\n",
              "      <td>ЭКС!Джеймс На 50 оттенков темнее</td>\n",
              "      <td>Без автора</td>\n",
              "      <td>Без аннотации</td>\n",
              "      <td>608</td>\n",
              "      <td>Сентиментальная проза</td>\n",
              "      <td>Без серии</td>\n",
              "      <td>https://cdn.ast.ru/v2/AST000000000052154/COVER...</td>\n",
              "    </tr>\n",
              "    <tr>\n",
              "      <th>29138</th>\n",
              "      <td>Добрые истории о котятах и волшебстве</td>\n",
              "      <td>Без автора</td>\n",
              "      <td>Без аннотации</td>\n",
              "      <td>656</td>\n",
              "      <td>Детская и подростковая литература</td>\n",
              "      <td>.</td>\n",
              "      <td>https://cdn.ast.ru/v2/ASE000000000840306/COVER...</td>\n",
              "    </tr>\n",
              "    <tr>\n",
              "      <th>29139</th>\n",
              "      <td>Хроники зоны</td>\n",
              "      <td>Без автора</td>\n",
              "      <td>Без аннотации</td>\n",
              "      <td>1440</td>\n",
              "      <td>Фантастика</td>\n",
              "      <td>Пикник на обочине</td>\n",
              "      <td>https://cdn.ast.ru/v2/ASE000000000722016/COVER...</td>\n",
              "    </tr>\n",
              "    <tr>\n",
              "      <th>29140</th>\n",
              "      <td>Город стекла</td>\n",
              "      <td>Клэр Кассандра</td>\n",
              "      <td>Кассандра Клэр – популярная американская писат...</td>\n",
              "      <td>576</td>\n",
              "      <td>Фэнтези</td>\n",
              "      <td>Бестселлеры Кассандры Клэр (подарочное)</td>\n",
              "      <td>https://cdn.ast.ru/v2/ASE000000000879590/COVER...</td>\n",
              "    </tr>\n",
              "  </tbody>\n",
              "</table>\n",
              "<p>29141 rows × 7 columns</p>\n",
              "</div>\n",
              "    <div class=\"colab-df-buttons\">\n",
              "\n",
              "  <div class=\"colab-df-container\">\n",
              "    <button class=\"colab-df-convert\" onclick=\"convertToInteractive('df-1a94f7b8-8627-45a4-b9a4-b9969ff9813d')\"\n",
              "            title=\"Convert this dataframe to an interactive table.\"\n",
              "            style=\"display:none;\">\n",
              "\n",
              "  <svg xmlns=\"http://www.w3.org/2000/svg\" height=\"24px\" viewBox=\"0 -960 960 960\">\n",
              "    <path d=\"M120-120v-720h720v720H120Zm60-500h600v-160H180v160Zm220 220h160v-160H400v160Zm0 220h160v-160H400v160ZM180-400h160v-160H180v160Zm440 0h160v-160H620v160ZM180-180h160v-160H180v160Zm440 0h160v-160H620v160Z\"/>\n",
              "  </svg>\n",
              "    </button>\n",
              "\n",
              "  <style>\n",
              "    .colab-df-container {\n",
              "      display:flex;\n",
              "      gap: 12px;\n",
              "    }\n",
              "\n",
              "    .colab-df-convert {\n",
              "      background-color: #E8F0FE;\n",
              "      border: none;\n",
              "      border-radius: 50%;\n",
              "      cursor: pointer;\n",
              "      display: none;\n",
              "      fill: #1967D2;\n",
              "      height: 32px;\n",
              "      padding: 0 0 0 0;\n",
              "      width: 32px;\n",
              "    }\n",
              "\n",
              "    .colab-df-convert:hover {\n",
              "      background-color: #E2EBFA;\n",
              "      box-shadow: 0px 1px 2px rgba(60, 64, 67, 0.3), 0px 1px 3px 1px rgba(60, 64, 67, 0.15);\n",
              "      fill: #174EA6;\n",
              "    }\n",
              "\n",
              "    .colab-df-buttons div {\n",
              "      margin-bottom: 4px;\n",
              "    }\n",
              "\n",
              "    [theme=dark] .colab-df-convert {\n",
              "      background-color: #3B4455;\n",
              "      fill: #D2E3FC;\n",
              "    }\n",
              "\n",
              "    [theme=dark] .colab-df-convert:hover {\n",
              "      background-color: #434B5C;\n",
              "      box-shadow: 0px 1px 3px 1px rgba(0, 0, 0, 0.15);\n",
              "      filter: drop-shadow(0px 1px 2px rgba(0, 0, 0, 0.3));\n",
              "      fill: #FFFFFF;\n",
              "    }\n",
              "  </style>\n",
              "\n",
              "    <script>\n",
              "      const buttonEl =\n",
              "        document.querySelector('#df-1a94f7b8-8627-45a4-b9a4-b9969ff9813d button.colab-df-convert');\n",
              "      buttonEl.style.display =\n",
              "        google.colab.kernel.accessAllowed ? 'block' : 'none';\n",
              "\n",
              "      async function convertToInteractive(key) {\n",
              "        const element = document.querySelector('#df-1a94f7b8-8627-45a4-b9a4-b9969ff9813d');\n",
              "        const dataTable =\n",
              "          await google.colab.kernel.invokeFunction('convertToInteractive',\n",
              "                                                    [key], {});\n",
              "        if (!dataTable) return;\n",
              "\n",
              "        const docLinkHtml = 'Like what you see? Visit the ' +\n",
              "          '<a target=\"_blank\" href=https://colab.research.google.com/notebooks/data_table.ipynb>data table notebook</a>'\n",
              "          + ' to learn more about interactive tables.';\n",
              "        element.innerHTML = '';\n",
              "        dataTable['output_type'] = 'display_data';\n",
              "        await google.colab.output.renderOutput(dataTable, element);\n",
              "        const docLink = document.createElement('div');\n",
              "        docLink.innerHTML = docLinkHtml;\n",
              "        element.appendChild(docLink);\n",
              "      }\n",
              "    </script>\n",
              "  </div>\n",
              "\n",
              "\n",
              "<div id=\"df-afa06694-0a31-4539-813c-6ad768c7232f\">\n",
              "  <button class=\"colab-df-quickchart\" onclick=\"quickchart('df-afa06694-0a31-4539-813c-6ad768c7232f')\"\n",
              "            title=\"Suggest charts\"\n",
              "            style=\"display:none;\">\n",
              "\n",
              "<svg xmlns=\"http://www.w3.org/2000/svg\" height=\"24px\"viewBox=\"0 0 24 24\"\n",
              "     width=\"24px\">\n",
              "    <g>\n",
              "        <path d=\"M19 3H5c-1.1 0-2 .9-2 2v14c0 1.1.9 2 2 2h14c1.1 0 2-.9 2-2V5c0-1.1-.9-2-2-2zM9 17H7v-7h2v7zm4 0h-2V7h2v10zm4 0h-2v-4h2v4z\"/>\n",
              "    </g>\n",
              "</svg>\n",
              "  </button>\n",
              "\n",
              "<style>\n",
              "  .colab-df-quickchart {\n",
              "      --bg-color: #E8F0FE;\n",
              "      --fill-color: #1967D2;\n",
              "      --hover-bg-color: #E2EBFA;\n",
              "      --hover-fill-color: #174EA6;\n",
              "      --disabled-fill-color: #AAA;\n",
              "      --disabled-bg-color: #DDD;\n",
              "  }\n",
              "\n",
              "  [theme=dark] .colab-df-quickchart {\n",
              "      --bg-color: #3B4455;\n",
              "      --fill-color: #D2E3FC;\n",
              "      --hover-bg-color: #434B5C;\n",
              "      --hover-fill-color: #FFFFFF;\n",
              "      --disabled-bg-color: #3B4455;\n",
              "      --disabled-fill-color: #666;\n",
              "  }\n",
              "\n",
              "  .colab-df-quickchart {\n",
              "    background-color: var(--bg-color);\n",
              "    border: none;\n",
              "    border-radius: 50%;\n",
              "    cursor: pointer;\n",
              "    display: none;\n",
              "    fill: var(--fill-color);\n",
              "    height: 32px;\n",
              "    padding: 0;\n",
              "    width: 32px;\n",
              "  }\n",
              "\n",
              "  .colab-df-quickchart:hover {\n",
              "    background-color: var(--hover-bg-color);\n",
              "    box-shadow: 0 1px 2px rgba(60, 64, 67, 0.3), 0 1px 3px 1px rgba(60, 64, 67, 0.15);\n",
              "    fill: var(--button-hover-fill-color);\n",
              "  }\n",
              "\n",
              "  .colab-df-quickchart-complete:disabled,\n",
              "  .colab-df-quickchart-complete:disabled:hover {\n",
              "    background-color: var(--disabled-bg-color);\n",
              "    fill: var(--disabled-fill-color);\n",
              "    box-shadow: none;\n",
              "  }\n",
              "\n",
              "  .colab-df-spinner {\n",
              "    border: 2px solid var(--fill-color);\n",
              "    border-color: transparent;\n",
              "    border-bottom-color: var(--fill-color);\n",
              "    animation:\n",
              "      spin 1s steps(1) infinite;\n",
              "  }\n",
              "\n",
              "  @keyframes spin {\n",
              "    0% {\n",
              "      border-color: transparent;\n",
              "      border-bottom-color: var(--fill-color);\n",
              "      border-left-color: var(--fill-color);\n",
              "    }\n",
              "    20% {\n",
              "      border-color: transparent;\n",
              "      border-left-color: var(--fill-color);\n",
              "      border-top-color: var(--fill-color);\n",
              "    }\n",
              "    30% {\n",
              "      border-color: transparent;\n",
              "      border-left-color: var(--fill-color);\n",
              "      border-top-color: var(--fill-color);\n",
              "      border-right-color: var(--fill-color);\n",
              "    }\n",
              "    40% {\n",
              "      border-color: transparent;\n",
              "      border-right-color: var(--fill-color);\n",
              "      border-top-color: var(--fill-color);\n",
              "    }\n",
              "    60% {\n",
              "      border-color: transparent;\n",
              "      border-right-color: var(--fill-color);\n",
              "    }\n",
              "    80% {\n",
              "      border-color: transparent;\n",
              "      border-right-color: var(--fill-color);\n",
              "      border-bottom-color: var(--fill-color);\n",
              "    }\n",
              "    90% {\n",
              "      border-color: transparent;\n",
              "      border-bottom-color: var(--fill-color);\n",
              "    }\n",
              "  }\n",
              "</style>\n",
              "\n",
              "  <script>\n",
              "    async function quickchart(key) {\n",
              "      const quickchartButtonEl =\n",
              "        document.querySelector('#' + key + ' button');\n",
              "      quickchartButtonEl.disabled = true;  // To prevent multiple clicks.\n",
              "      quickchartButtonEl.classList.add('colab-df-spinner');\n",
              "      try {\n",
              "        const charts = await google.colab.kernel.invokeFunction(\n",
              "            'suggestCharts', [key], {});\n",
              "      } catch (error) {\n",
              "        console.error('Error during call to suggestCharts:', error);\n",
              "      }\n",
              "      quickchartButtonEl.classList.remove('colab-df-spinner');\n",
              "      quickchartButtonEl.classList.add('colab-df-quickchart-complete');\n",
              "    }\n",
              "    (() => {\n",
              "      let quickchartButtonEl =\n",
              "        document.querySelector('#df-afa06694-0a31-4539-813c-6ad768c7232f button');\n",
              "      quickchartButtonEl.style.display =\n",
              "        google.colab.kernel.accessAllowed ? 'block' : 'none';\n",
              "    })();\n",
              "  </script>\n",
              "</div>\n",
              "    </div>\n",
              "  </div>\n"
            ],
            "application/vnd.google.colaboratory.intrinsic+json": {
              "type": "dataframe",
              "variable_name": "data",
              "summary": "{\n  \"name\": \"data\",\n  \"rows\": 29141,\n  \"fields\": [\n    {\n      \"column\": \"Title\",\n      \"properties\": {\n        \"dtype\": \"string\",\n        \"num_unique_values\": 26571,\n        \"samples\": [\n          \"\\u041f\\u0440\\u043e\\u0442\\u0438\\u0432\\u043e\\u0441\\u0442\\u043e\\u044f\\u043d\\u0438\\u0435. 16 \\u0438\\u044e\\u043d\\u044f \\u2014 4 \\u0438\\u044e\\u043b\\u044f 1990\",\n          \"\\u0414\\u0435\\u0432\\u0443\\u0448\\u043a\\u0438 \\u043f\\u043e \\u0432\\u044b\\u0437\\u043e\\u0432\\u0443\",\n          \"\\u0412\\u0435\\u0440\\u043d\\u043e\\u043d \\u0413\\u043e\\u0441\\u043f\\u043e\\u0434\\u0438 \\u041b\\u0438\\u0442\\u0442\\u043b\"\n        ],\n        \"semantic_type\": \"\",\n        \"description\": \"\"\n      }\n    },\n    {\n      \"column\": \"Author\",\n      \"properties\": {\n        \"dtype\": \"category\",\n        \"num_unique_values\": 7417,\n        \"samples\": [\n          \"\\u0414\\u044e\\u0440\\u0430\\u0441 \\u041c\\u0430\\u0440\\u0433\\u0435\\u0440\\u0438\\u0442\",\n          \"\\u0421\\u044c\\u0435\\u0440\\u0440\\u0430 \\u0425\\u0430\\u0432\\u044c\\u0435\\u0440\",\n          \"\\u0421\\u043c\\u0438\\u0442 \\u041b\\u0438\\u0437\\u0430 \\u0414\\u0436\\u0435\\u0439\\u043d\"\n        ],\n        \"semantic_type\": \"\",\n        \"description\": \"\"\n      }\n    },\n    {\n      \"column\": \"Annotation\",\n      \"properties\": {\n        \"dtype\": \"string\",\n        \"num_unique_values\": 22985,\n        \"samples\": [\n          \"\\u041b\\u044e\\u0431\\u0432\\u0438 \\u0441 \\u043f\\u0435\\u0440\\u0432\\u043e\\u0433\\u043e \\u0432\\u0437\\u0433\\u043b\\u044f\\u0434\\u0430 \\u043d\\u0435 \\u0441\\u0443\\u0449\\u0435\\u0441\\u0442\\u0432\\u0443\\u0435\\u0442 \\u2013 \\u0432 \\u044d\\u0442\\u043e\\u043c \\u0443\\u0431\\u0435\\u0436\\u0434\\u0435\\u043d\\u0430 \\u041e\\u0442\\u044d\\u043c \\u0425\\u0435\\u0439\\u0432\\u0435\\u043d, \\u043a\\u043e\\u0442\\u043e\\u0440\\u0430\\u044f \\u043f\\u043e\\u0441\\u043b\\u0435 \\u0441\\u043a\\u043e\\u0440\\u043e\\u043f\\u0430\\u043b\\u0438\\u0442\\u0435\\u043b\\u044c\\u043d\\u043e\\u0433\\u043e \\u044e\\u043d\\u043e\\u0448\\u0435\\u0441\\u043a\\u043e\\u0433\\u043e \\\"\\u0431\\u0440\\u0430\\u043a\\u0430 \\u043f\\u043e \\u0441\\u0442\\u0440\\u0430\\u0441\\u0442\\u0438\\\" \\u0441 \\u043a\\u0440\\u0430\\u0441\\u0430\\u0432\\u0446\\u0435\\u043c \\u0445\\u043e\\u043a\\u043a\\u0435\\u0438\\u0441\\u0442\\u043e\\u043c \\u0421\\u044d\\u043c\\u043e\\u043c \\u041b\\u0435\\u043a\\u043b\\u0435\\u0440\\u043e\\u043c \\u043e\\u0441\\u0442\\u0430\\u043b\\u0430\\u0441\\u044c \\u0441 \\u0440\\u0430\\u0437\\u0431\\u0438\\u0442\\u044b\\u043c \\u0441\\u0435\\u0440\\u0434\\u0446\\u0435\\u043c. \\u041e\\u0434\\u043d\\u0430 \\u0438 \\u0441 \\u043c\\u043b\\u0430\\u0434\\u0435\\u043d\\u0446\\u0435\\u043c \\u043d\\u0430 \\u0440\\u0443\\u043a\\u0430\\u0445.\\n\\u0422\\u0435\\u043f\\u0435\\u0440\\u044c, \\u0433\\u043e\\u0434\\u044b \\u0441\\u043f\\u0443\\u0441\\u0442\\u044f, \\u041e\\u0442\\u044d\\u043c, \\u0443\\u0441\\u043f\\u0435\\u0448\\u043d\\u0430\\u044f \\u0431\\u0438\\u0437\\u043d\\u0435\\u0441-\\u043b\\u0435\\u0434\\u0438 \\u0438 \\u0441\\u0447\\u0430\\u0441\\u0442\\u043b\\u0438\\u0432\\u0430\\u044f \\u043c\\u0430\\u0442\\u044c, \\u0438 \\u0432\\u043e\\u0432\\u0441\\u0435 \\u043d\\u0435 \\u043f\\u043e\\u043c\\u044b\\u0448\\u043b\\u044f\\u0435\\u0442 \\u043e \\u0442\\u043e\\u043c, \\u0447\\u0442\\u043e\\u0431\\u044b \\u0432\\u043f\\u0443\\u0441\\u0442\\u0438\\u0442\\u044c \\u0432 \\u0441\\u0432\\u043e\\u0439 \\u0443\\u044e\\u0442\\u043d\\u044b\\u0439 \\u043c\\u0438\\u0440\\u043e\\u043a \\u043d\\u0430 \\u0434\\u0432\\u043e\\u0438\\u0445 \\u043a\\u043e\\u0433\\u043e-\\u0442\\u043e \\u0442\\u0440\\u0435\\u0442\\u044c\\u0435\\u0433\\u043e, \\u2013 \\u043e\\u0434\\u043d\\u0430\\u043a\\u043e \\u043e\\u0442 \\u0441\\u0443\\u0434\\u044c\\u0431\\u044b \\u043d\\u0435 \\u0443\\u0439\\u0434\\u0435\\u0448\\u044c. \\u0421\\u043b\\u0443\\u0447\\u0430\\u0439\\u043d\\u0430\\u044f \\u043d\\u043e\\u0432\\u0430\\u044f \\u0432\\u0441\\u0442\\u0440\\u0435\\u0447\\u0430 \\u0441 \\u0421\\u044d\\u043c\\u043e\\u043c, \\u0443\\u043b\\u044b\\u0431\\u043a\\u0430, \\u043d\\u0435\\u0441\\u043a\\u043e\\u043b\\u044c\\u043a\\u043e \\u0441\\u043b\\u043e\\u0432, \\u2013 \\u0438 \\u0432\\u043e\\u0442 \\u0443\\u0436\\u0435 \\u0441\\u0442\\u0440\\u0430\\u0441\\u0442\\u044c, \\u043d\\u0430\\u0432\\u0435\\u043a\\u0438, \\u043a\\u0430\\u0437\\u0430\\u043b\\u043e\\u0441\\u044c \\u0431\\u044b, \\u043f\\u043e\\u0433\\u0440\\u0435\\u0431\\u0435\\u043d\\u043d\\u0430\\u044f \\u043f\\u043e\\u0434 \\u0433\\u0440\\u0443\\u0437\\u043e\\u043c \\u043e\\u0431\\u0438\\u0434, \\u0432\\u0441\\u043f\\u044b\\u0445\\u0438\\u0432\\u0430\\u0435\\u0442 \\u043e\\u043f\\u044f\\u0442\\u044c.\\n\\u041d\\u043e \\u0447\\u0442\\u043e \\u0435\\u0441\\u043b\\u0438 \\u0421\\u044d\\u043c \\u0441\\u043d\\u043e\\u0432\\u0430 \\u0432\\u0441\\u0435 \\u0440\\u0430\\u0437\\u0440\\u0443\\u0448\\u0438\\u0442?\\n\\u0410 \\u043c\\u043e\\u0436\\u0435\\u0442 \\u0431\\u044b\\u0442\\u044c, \\u043b\\u044e\\u0431\\u043e\\u0432\\u044c \\u0441 \\u043f\\u0435\\u0440\\u0432\\u043e\\u0433\\u043e \\u0432\\u0437\\u0433\\u043b\\u044f\\u0434\\u0430 \\u0432\\u0441\\u0435-\\u0442\\u0430\\u043a\\u0438 \\u0441\\u0443\\u0449\\u0435\\u0441\\u0442\\u0432\\u0443\\u0435\\u0442?..\",\n          \"\\u041d\\u0435 \\u0437\\u0430\\u0440\\u0435\\u043a\\u0430\\u0439\\u0441\\u044f \\u043e\\u0442 \\u0442\\u044e\\u0440\\u044c\\u043c\\u044b, \\u0441\\u0443\\u043c\\u044b... \\u0438 \\u043b\\u044e\\u0431\\u0432\\u0438.\\n\\u0427\\u0435\\u0440\\u0435\\u0437 \\u043f\\u044f\\u0442\\u044c \\u043b\\u0435\\u0442, \\u0445\\u043e\\u0440\\u043e\\u0448\\u043e \\u0443\\u0441\\u0432\\u043e\\u0438\\u0432 \\u044d\\u0442\\u0443 \\u0438\\u0441\\u0442\\u0438\\u043d\\u0443, \\u0422\\u0430\\u0442\\u044c\\u044f\\u043d\\u0430 \\u0420\\u0430\\u0437\\u0431\\u0435\\u0436\\u043a\\u0438\\u043d\\u0430 \\u0440\\u0435\\u0448\\u0430\\u0435\\u0442 \\u0432\\u0435\\u0440\\u043d\\u0443\\u0442\\u044c\\u0441\\u044f \\u0441 \\u0434\\u043e\\u0447\\u0435\\u0440\\u044c\\u044e \\u0432 \\u041c\\u043e\\u0441\\u043a\\u0432\\u0443 \\u2014 \\u0433\\u043e\\u0440\\u043e\\u0434 \\u043f\\u0435\\u0440\\u0432\\u043e\\u0439 \\u043b\\u044e\\u0431\\u0432\\u0438 \\u0438 \\u0440\\u0430\\u0437\\u0431\\u0438\\u0442\\u044b\\u0445 \\u043d\\u0430\\u0434\\u0435\\u0436\\u0434. \\u0415\\u0439 \\u0432\\u043d\\u043e\\u0432\\u044c \\u0443\\u0434\\u0430\\u0435\\u0442\\u0441\\u044f \\u0437\\u0430\\u043d\\u044f\\u0442\\u044c \\u043c\\u0435\\u0441\\u0442\\u043e \\u043f\\u043e\\u0434 \\u0431\\u0435\\u0437\\u0436\\u0430\\u043b\\u043e\\u0441\\u0442\\u043d\\u044b\\u043c \\u0441\\u0442\\u043e\\u043b\\u0438\\u0447\\u043d\\u044b\\u043c \\u0441\\u043e\\u043b\\u043d\\u0446\\u0435\\u043c. \\u041e\\u043d\\u0430 \\u043e\\u043f\\u044f\\u0442\\u044c \\u0432\\u0438\\u0446\\u0435-\\u043f\\u0440\\u0435\\u0437\\u0438\\u00ad\\u0434\\u0435\\u043d\\u0442 \\u0444\\u0438\\u0440\\u043c\\u044b \\u0413\\u043e\\u0440\\u0438\\u043d\\u0430, \\u0438 \\u0432 \\u0435\\u0435 \\u0441\\u0435\\u0440\\u0434\\u0446\\u0435, \\u043a\\u0430\\u0436\\u0435\\u0442\\u0441\\u044f, \\u0433\\u043e\\u0442\\u043e\\u0432\\u0430 \\u043f\\u043e\\u0441\\u0442\\u0443\\u0447\\u0430\\u0442\\u044c\\u00ad\\u0441\\u044f \\u043d\\u043e\\u0432\\u0430\\u044f \\u043b\\u044e\\u0431\\u043e\\u0432\\u044c.\\n\\u0425\\u043e\\u0442\\u044f \\u0447\\u0443\\u0432\\u0441\\u0442\\u0432\\u0430 \\u043a \\u0421\\u0435\\u0440\\u0433\\u0435\\u044e \\u0435\\u0449\\u0435 \\u043d\\u0435 \\u043e\\u0441\\u0442\\u044b\\u043b\\u0438, \\u0422\\u0430\\u0442\\u044c\\u044f\\u043d\\u0430 \\u043d\\u0435 \\u0433\\u043e\\u0442\\u043e\\u0432\\u0430 \\u0441\\u043a\\u0430\\u0437\\u0430\\u0442\\u044c \\u0435\\u043c\\u0443 \\u043f\\u0440\\u0430\\u0432\\u0434\\u0443 \\u043e \\u0442\\u043e\\u043c, \\u0447\\u0442\\u043e \\u043c\\u0430\\u043b\\u0435\\u043d\\u044c\\u043a\\u0430\\u044f \\u041d\\u0430\\u0434\\u044f \\u2014 \\u0438\\u0445 \\u043e\\u0431\\u0449\\u0430\\u044f \\u0434\\u043e\\u0447\\u044c. \\u041e\\u0434\\u043d\\u0430 \\u043b\\u043e\\u0436\\u044c \\u0440\\u043e\\u0436\\u0434\\u0430\\u0435\\u0442 \\u0434\\u0440\\u0443\\u0433\\u0443\\u044e \\u2014 \\u0438 \\u0432\\u043e\\u0442 \\u0443\\u0436\\u0435 \\u043d\\u0435\\u0432\\u043e\\u0437\\u043c\\u043e\\u0436\\u043d\\u043e \\u0432\\u044b\\u0431\\u0440\\u0430\\u0442\\u044c\\u0441\\u044f \\u0438\\u0437 \\u043f\\u0430\\u0443\\u0442\\u0438\\u043d\\u044b \\u043e\\u0431\\u043c\\u0430\\u043d\\u0430...\",\n          \"\\ufeff\\u0417\\u043d\\u0430\\u0435\\u0442\\u0435, \\u043a\\u0430\\u043a \\u044d\\u0442\\u043e \\u0431\\u044b\\u0432\\u0430\\u0435\\u0442? \\u0416\\u0438\\u0432\\u0435\\u0448\\u044c \\u0441\\u0435\\u0431\\u0435, \\u0440\\u0430\\u0434\\u0443\\u0435\\u0448\\u044c\\u0441\\u044f, \\u043d\\u0438\\u043a\\u043e\\u0433\\u043e \\u043d\\u0435 \\u0442\\u0440\\u043e\\u0433\\u0430\\u0435\\u0448\\u044c\\u2026 \\u0430 \\u043f\\u043e\\u0442\\u043e\\u043c \\u043f\\u043e\\u043f\\u0430\\u0434\\u0430\\u0435\\u0448\\u044c. \\u0412 \\u043f\\u0440\\u044f\\u043c\\u043e\\u043c \\u0441\\u043c\\u044b\\u0441\\u043b\\u0435 \\u044d\\u0442\\u043e\\u0433\\u043e \\u0441\\u043b\\u043e\\u0432\\u0430. \\u041f\\u043e\\u043f\\u0430\\u0434\\u0430\\u0435\\u0448\\u044c \\u0432 \\u0442\\u0435\\u043c\\u043d\\u044b\\u0439 \\u0437\\u0430\\u043c\\u043e\\u043a, \\u0441\\u0442\\u043e\\u044f\\u0449\\u0438\\u0439 \\u043d\\u0430 \\u0433\\u0440\\u0430\\u043d\\u0438\\u0446\\u0435 \\u043c\\u0438\\u0440\\u043e\\u0432. \\u0425\\u043e\\u0437\\u044f\\u0438\\u043d \\u0441\\u043b\\u0430\\u0432\\u043d\\u043e\\u0433\\u043e \\u043c\\u0435\\u0441\\u0442\\u0430 \\u043f\\u0440\\u0438\\u0432\\u043b\\u0435\\u043a\\u0430\\u0442\\u0435\\u043b\\u044c\\u043d\\u044b\\u0439 \\u0438 \\u043e\\u0431\\u0445\\u043e\\u0434\\u0438\\u0442\\u0435\\u043b\\u044c\\u043d\\u044b\\u0439, \\u043c\\u0430\\u043b\\u043e \\u0447\\u0442\\u043e \\u0447\\u0435\\u0440\\u043d\\u043e\\u043a\\u043d\\u0438\\u0436\\u043d\\u0438\\u043a. \\u0414\\u0430 \\u0438 \\u0432\\u0441\\u0435 \\u0436\\u0438\\u0442\\u0435\\u043b\\u0438 \\u043f\\u043e\\u0434\\u043e\\u0437\\u0440\\u0438\\u0442\\u0435\\u043b\\u044c\\u043d\\u043e \\u043f\\u0440\\u0438\\u0432\\u0435\\u0442\\u043b\\u0438\\u0432\\u044b\\u0435\\u2026 \\u043a\\u0430\\u043a \\u0431\\u0443\\u0434\\u0442\\u043e \\u0447\\u0442\\u043e-\\u0442\\u043e \\u0441\\u043a\\u0440\\u044b\\u0432\\u0430\\u044e\\u0442. \\u0412 \\u043e\\u0431\\u0449\\u0435\\u043c, \\u0432 \\u0433\\u043e\\u0441\\u0442\\u044f\\u0445 \\u0445\\u043e\\u0440\\u043e\\u0448\\u043e, \\u043d\\u043e \\u0434\\u043e\\u043c\\u0430 \\u043b\\u0443\\u0447\\u0448\\u0435! \\u041d\\u0438\\u043a\\u0430\\u043a\\u0438\\u0445 \\u0432\\u043e\\u0441\\u043a\\u0440\\u0435\\u0441\\u0448\\u0438\\u0445 \\u0443\\u043c\\u0435\\u0440\\u0442\\u0432\\u0438\\u0439, \\u0447\\u0435\\u0440\\u043d\\u044b\\u0445 \\u0433\\u0440\\u0438\\u043c\\u0443\\u0430\\u0440\\u043e\\u0432 \\u0438 \\u0442\\u0430\\u0439\\u043d\\u044b\\u0445 \\u043f\\u0440\\u043e\\u043a\\u043b\\u044f\\u0442\\u0438\\u0439. \\u0412\\u0435\\u0440\\u043d\\u0443\\u0442\\u044c\\u0441\\u044f \\u0431\\u044b \\u0432 \\u0440\\u043e\\u0434\\u043d\\u043e\\u0439 \\u043c\\u0438\\u0440, \\u043d\\u043e \\u0442\\u043e\\u043b\\u044c\\u043a\\u043e \\u043a\\u0442\\u043e \\u043c\\u0435\\u043d\\u044f \\u043e\\u0442\\u043f\\u0443\\u0441\\u0442\\u0438\\u0442?\"\n        ],\n        \"semantic_type\": \"\",\n        \"description\": \"\"\n      }\n    },\n    {\n      \"column\": \"num of pages\",\n      \"properties\": {\n        \"dtype\": \"category\",\n        \"num_unique_values\": 226,\n        \"samples\": [\n          \"288\",\n          \"346\",\n          \"28\"\n        ],\n        \"semantic_type\": \"\",\n        \"description\": \"\"\n      }\n    },\n    {\n      \"column\": \"genre\",\n      \"properties\": {\n        \"dtype\": \"category\",\n        \"num_unique_values\": 56,\n        \"samples\": [\n          \"\\u041c\\u0438\\u0444\\u044b. \\u0424\\u043e\\u043b\\u044c\\u043a\\u043b\\u043e\\u0440\",\n          \"\\u0421\\u0435\\u043d\\u0442\\u0438\\u043c\\u0435\\u043d\\u0442\\u0430\\u043b\\u044c\\u043d\\u0430\\u044f \\u043f\\u0440\\u043e\\u0437\\u0430\",\n          \"Marvel\"\n        ],\n        \"semantic_type\": \"\",\n        \"description\": \"\"\n      }\n    },\n    {\n      \"column\": \"series\",\n      \"properties\": {\n        \"dtype\": \"category\",\n        \"num_unique_values\": 5609,\n        \"samples\": [\n          \"\\u042d\\u0442\\u043e \\u043b\\u0438\\u0447\\u043d\\u043e\\u0435\",\n          \"\\u041c\\u0430\\u0437\\u0438\\u043d(\\u043c)\",\n          \"\\u0411\\u041c\\u041b!\\u0413\\u043e\\u0442\\u0438\\u0447\\u0435\\u0441\\u043a\\u0438\\u0439\"\n        ],\n        \"semantic_type\": \"\",\n        \"description\": \"\"\n      }\n    },\n    {\n      \"column\": \"book cover\",\n      \"properties\": {\n        \"dtype\": \"string\",\n        \"num_unique_values\": 29141,\n        \"samples\": [\n          \"https://cdn.ast.ru/v2/ASE000000000867449/COVER/cover1__w220.jpg\",\n          \"https://cdn.ast.ru/v2/AST000000000071820/COVER/cover1__w220.jpg\",\n          \"https://cdn.ast.ru/v2/AST000000000032377/COVER/cover1__w220.jpg\"\n        ],\n        \"semantic_type\": \"\",\n        \"description\": \"\"\n      }\n    }\n  ]\n}"
            }
          },
          "metadata": {},
          "execution_count": 14
        }
      ]
    },
    {
      "cell_type": "code",
      "source": [
        "data['num of pages'] = data['num of pages'].astype('int')"
      ],
      "metadata": {
        "id": "LJR1j7FXIA0u"
      },
      "execution_count": 18,
      "outputs": []
    },
    {
      "cell_type": "code",
      "source": [
        "data.dtypes"
      ],
      "metadata": {
        "id": "dtULTuKKIMB6",
        "outputId": "e466be97-4f98-49c9-af0b-0d195ec1e71b",
        "colab": {
          "base_uri": "https://localhost:8080/",
          "height": 303
        }
      },
      "execution_count": 20,
      "outputs": [
        {
          "output_type": "execute_result",
          "data": {
            "text/plain": [
              "Title           object\n",
              "Author          object\n",
              "Annotation      object\n",
              "num of pages     int64\n",
              "genre           object\n",
              "series          object\n",
              "book cover      object\n",
              "dtype: object"
            ],
            "text/html": [
              "<div>\n",
              "<style scoped>\n",
              "    .dataframe tbody tr th:only-of-type {\n",
              "        vertical-align: middle;\n",
              "    }\n",
              "\n",
              "    .dataframe tbody tr th {\n",
              "        vertical-align: top;\n",
              "    }\n",
              "\n",
              "    .dataframe thead th {\n",
              "        text-align: right;\n",
              "    }\n",
              "</style>\n",
              "<table border=\"1\" class=\"dataframe\">\n",
              "  <thead>\n",
              "    <tr style=\"text-align: right;\">\n",
              "      <th></th>\n",
              "      <th>0</th>\n",
              "    </tr>\n",
              "  </thead>\n",
              "  <tbody>\n",
              "    <tr>\n",
              "      <th>Title</th>\n",
              "      <td>object</td>\n",
              "    </tr>\n",
              "    <tr>\n",
              "      <th>Author</th>\n",
              "      <td>object</td>\n",
              "    </tr>\n",
              "    <tr>\n",
              "      <th>Annotation</th>\n",
              "      <td>object</td>\n",
              "    </tr>\n",
              "    <tr>\n",
              "      <th>num of pages</th>\n",
              "      <td>int64</td>\n",
              "    </tr>\n",
              "    <tr>\n",
              "      <th>genre</th>\n",
              "      <td>object</td>\n",
              "    </tr>\n",
              "    <tr>\n",
              "      <th>series</th>\n",
              "      <td>object</td>\n",
              "    </tr>\n",
              "    <tr>\n",
              "      <th>book cover</th>\n",
              "      <td>object</td>\n",
              "    </tr>\n",
              "  </tbody>\n",
              "</table>\n",
              "</div><br><label><b>dtype:</b> object</label>"
            ]
          },
          "metadata": {},
          "execution_count": 20
        }
      ]
    },
    {
      "cell_type": "code",
      "source": [],
      "metadata": {
        "id": "iZuV8DSgIDkU"
      },
      "execution_count": null,
      "outputs": []
    }
  ]
}